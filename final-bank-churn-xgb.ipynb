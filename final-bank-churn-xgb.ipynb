{
 "cells": [
  {
   "cell_type": "code",
   "execution_count": 2,
   "id": "c90bb142",
   "metadata": {
    "_cell_guid": "b1076dfc-b9ad-4769-8c92-a6c4dae69d19",
    "_uuid": "8f2839f25d086af736a60e9eeb907d3b93b6e0e5",
    "execution": {
     "iopub.execute_input": "2024-01-27T17:07:41.793723Z",
     "iopub.status.busy": "2024-01-27T17:07:41.793348Z",
     "iopub.status.idle": "2024-01-27T17:07:42.110157Z",
     "shell.execute_reply": "2024-01-27T17:07:42.108540Z"
    },
    "papermill": {
     "duration": 0.332852,
     "end_time": "2024-01-27T17:07:42.112652",
     "exception": false,
     "start_time": "2024-01-27T17:07:41.779800",
     "status": "completed"
    },
    "tags": []
   },
   "outputs": [],
   "source": [
    "# This Python 3 environment comes with many helpful analytics libraries installed\n",
    "# It is defined by the kaggle/python Docker image: https://github.com/kaggle/docker-python\n",
    "# For example, here's several helpful packages to load\n",
    "\n",
    "import numpy as np # linear algebra\n",
    "import pandas as pd # data processing, CSV file I/O (e.g. pd.read_csv)\n",
    "\n",
    "# Input data files are available in the read-only \"../input/\" directory\n",
    "# For example, running this (by clicking run or pressing Shift+Enter) will list all files under the input directory\n",
    "\n",
    "import os\n",
    "for dirname, _, filenames in os.walk('/kaggle/input'):\n",
    "    for filename in filenames:\n",
    "        print(os.path.join(dirname, filename))\n",
    "\n",
    "# You can write up to 20GB to the current directory (/kaggle/working/) that gets preserved as output when you create a version using \"Save & Run All\" \n",
    "# You can also write temporary files to /kaggle/temp/, but they won't be saved outside of the current session"
   ]
  },
  {
   "cell_type": "code",
   "execution_count": 3,
   "id": "a0fa5f56",
   "metadata": {
    "execution": {
     "iopub.execute_input": "2024-01-27T17:07:42.138510Z",
     "iopub.status.busy": "2024-01-27T17:07:42.138042Z",
     "iopub.status.idle": "2024-01-27T17:07:42.605419Z",
     "shell.execute_reply": "2024-01-27T17:07:42.603459Z"
    },
    "papermill": {
     "duration": 0.483068,
     "end_time": "2024-01-27T17:07:42.608008",
     "exception": false,
     "start_time": "2024-01-27T17:07:42.124940",
     "status": "completed"
    },
    "tags": []
   },
   "outputs": [
    {
     "data": {
      "text/html": [
       "<div>\n",
       "<style scoped>\n",
       "    .dataframe tbody tr th:only-of-type {\n",
       "        vertical-align: middle;\n",
       "    }\n",
       "\n",
       "    .dataframe tbody tr th {\n",
       "        vertical-align: top;\n",
       "    }\n",
       "\n",
       "    .dataframe thead th {\n",
       "        text-align: right;\n",
       "    }\n",
       "</style>\n",
       "<table border=\"1\" class=\"dataframe\">\n",
       "  <thead>\n",
       "    <tr style=\"text-align: right;\">\n",
       "      <th></th>\n",
       "      <th>id</th>\n",
       "      <th>CustomerId</th>\n",
       "      <th>Surname</th>\n",
       "      <th>CreditScore</th>\n",
       "      <th>Geography</th>\n",
       "      <th>Gender</th>\n",
       "      <th>Age</th>\n",
       "      <th>Tenure</th>\n",
       "      <th>Balance</th>\n",
       "      <th>NumOfProducts</th>\n",
       "      <th>HasCrCard</th>\n",
       "      <th>IsActiveMember</th>\n",
       "      <th>EstimatedSalary</th>\n",
       "      <th>Exited</th>\n",
       "    </tr>\n",
       "  </thead>\n",
       "  <tbody>\n",
       "    <tr>\n",
       "      <th>0</th>\n",
       "      <td>0</td>\n",
       "      <td>15674932</td>\n",
       "      <td>Okwudilichukwu</td>\n",
       "      <td>668</td>\n",
       "      <td>France</td>\n",
       "      <td>Male</td>\n",
       "      <td>33.0</td>\n",
       "      <td>3</td>\n",
       "      <td>0.00</td>\n",
       "      <td>2</td>\n",
       "      <td>1.0</td>\n",
       "      <td>0.0</td>\n",
       "      <td>181449.97</td>\n",
       "      <td>0</td>\n",
       "    </tr>\n",
       "    <tr>\n",
       "      <th>1</th>\n",
       "      <td>1</td>\n",
       "      <td>15749177</td>\n",
       "      <td>Okwudiliolisa</td>\n",
       "      <td>627</td>\n",
       "      <td>France</td>\n",
       "      <td>Male</td>\n",
       "      <td>33.0</td>\n",
       "      <td>1</td>\n",
       "      <td>0.00</td>\n",
       "      <td>2</td>\n",
       "      <td>1.0</td>\n",
       "      <td>1.0</td>\n",
       "      <td>49503.50</td>\n",
       "      <td>0</td>\n",
       "    </tr>\n",
       "    <tr>\n",
       "      <th>2</th>\n",
       "      <td>2</td>\n",
       "      <td>15694510</td>\n",
       "      <td>Hsueh</td>\n",
       "      <td>678</td>\n",
       "      <td>France</td>\n",
       "      <td>Male</td>\n",
       "      <td>40.0</td>\n",
       "      <td>10</td>\n",
       "      <td>0.00</td>\n",
       "      <td>2</td>\n",
       "      <td>1.0</td>\n",
       "      <td>0.0</td>\n",
       "      <td>184866.69</td>\n",
       "      <td>0</td>\n",
       "    </tr>\n",
       "    <tr>\n",
       "      <th>3</th>\n",
       "      <td>3</td>\n",
       "      <td>15741417</td>\n",
       "      <td>Kao</td>\n",
       "      <td>581</td>\n",
       "      <td>France</td>\n",
       "      <td>Male</td>\n",
       "      <td>34.0</td>\n",
       "      <td>2</td>\n",
       "      <td>148882.54</td>\n",
       "      <td>1</td>\n",
       "      <td>1.0</td>\n",
       "      <td>1.0</td>\n",
       "      <td>84560.88</td>\n",
       "      <td>0</td>\n",
       "    </tr>\n",
       "    <tr>\n",
       "      <th>4</th>\n",
       "      <td>4</td>\n",
       "      <td>15766172</td>\n",
       "      <td>Chiemenam</td>\n",
       "      <td>716</td>\n",
       "      <td>Spain</td>\n",
       "      <td>Male</td>\n",
       "      <td>33.0</td>\n",
       "      <td>5</td>\n",
       "      <td>0.00</td>\n",
       "      <td>2</td>\n",
       "      <td>1.0</td>\n",
       "      <td>1.0</td>\n",
       "      <td>15068.83</td>\n",
       "      <td>0</td>\n",
       "    </tr>\n",
       "    <tr>\n",
       "      <th>...</th>\n",
       "      <td>...</td>\n",
       "      <td>...</td>\n",
       "      <td>...</td>\n",
       "      <td>...</td>\n",
       "      <td>...</td>\n",
       "      <td>...</td>\n",
       "      <td>...</td>\n",
       "      <td>...</td>\n",
       "      <td>...</td>\n",
       "      <td>...</td>\n",
       "      <td>...</td>\n",
       "      <td>...</td>\n",
       "      <td>...</td>\n",
       "      <td>...</td>\n",
       "    </tr>\n",
       "    <tr>\n",
       "      <th>165029</th>\n",
       "      <td>165029</td>\n",
       "      <td>15667085</td>\n",
       "      <td>Meng</td>\n",
       "      <td>667</td>\n",
       "      <td>Spain</td>\n",
       "      <td>Female</td>\n",
       "      <td>33.0</td>\n",
       "      <td>2</td>\n",
       "      <td>0.00</td>\n",
       "      <td>1</td>\n",
       "      <td>1.0</td>\n",
       "      <td>1.0</td>\n",
       "      <td>131834.75</td>\n",
       "      <td>0</td>\n",
       "    </tr>\n",
       "    <tr>\n",
       "      <th>165030</th>\n",
       "      <td>165030</td>\n",
       "      <td>15665521</td>\n",
       "      <td>Okechukwu</td>\n",
       "      <td>792</td>\n",
       "      <td>France</td>\n",
       "      <td>Male</td>\n",
       "      <td>35.0</td>\n",
       "      <td>3</td>\n",
       "      <td>0.00</td>\n",
       "      <td>1</td>\n",
       "      <td>0.0</td>\n",
       "      <td>0.0</td>\n",
       "      <td>131834.45</td>\n",
       "      <td>0</td>\n",
       "    </tr>\n",
       "    <tr>\n",
       "      <th>165031</th>\n",
       "      <td>165031</td>\n",
       "      <td>15664752</td>\n",
       "      <td>Hsia</td>\n",
       "      <td>565</td>\n",
       "      <td>France</td>\n",
       "      <td>Male</td>\n",
       "      <td>31.0</td>\n",
       "      <td>5</td>\n",
       "      <td>0.00</td>\n",
       "      <td>1</td>\n",
       "      <td>1.0</td>\n",
       "      <td>1.0</td>\n",
       "      <td>127429.56</td>\n",
       "      <td>0</td>\n",
       "    </tr>\n",
       "    <tr>\n",
       "      <th>165032</th>\n",
       "      <td>165032</td>\n",
       "      <td>15689614</td>\n",
       "      <td>Hsiung</td>\n",
       "      <td>554</td>\n",
       "      <td>Spain</td>\n",
       "      <td>Female</td>\n",
       "      <td>30.0</td>\n",
       "      <td>7</td>\n",
       "      <td>161533.00</td>\n",
       "      <td>1</td>\n",
       "      <td>0.0</td>\n",
       "      <td>1.0</td>\n",
       "      <td>71173.03</td>\n",
       "      <td>0</td>\n",
       "    </tr>\n",
       "    <tr>\n",
       "      <th>165033</th>\n",
       "      <td>165033</td>\n",
       "      <td>15732798</td>\n",
       "      <td>Ulyanov</td>\n",
       "      <td>850</td>\n",
       "      <td>France</td>\n",
       "      <td>Male</td>\n",
       "      <td>31.0</td>\n",
       "      <td>1</td>\n",
       "      <td>0.00</td>\n",
       "      <td>1</td>\n",
       "      <td>1.0</td>\n",
       "      <td>0.0</td>\n",
       "      <td>61581.79</td>\n",
       "      <td>1</td>\n",
       "    </tr>\n",
       "  </tbody>\n",
       "</table>\n",
       "<p>165034 rows × 14 columns</p>\n",
       "</div>"
      ],
      "text/plain": [
       "            id  CustomerId         Surname  CreditScore Geography  Gender  \\\n",
       "0            0    15674932  Okwudilichukwu          668    France    Male   \n",
       "1            1    15749177   Okwudiliolisa          627    France    Male   \n",
       "2            2    15694510           Hsueh          678    France    Male   \n",
       "3            3    15741417             Kao          581    France    Male   \n",
       "4            4    15766172       Chiemenam          716     Spain    Male   \n",
       "...        ...         ...             ...          ...       ...     ...   \n",
       "165029  165029    15667085            Meng          667     Spain  Female   \n",
       "165030  165030    15665521       Okechukwu          792    France    Male   \n",
       "165031  165031    15664752            Hsia          565    France    Male   \n",
       "165032  165032    15689614          Hsiung          554     Spain  Female   \n",
       "165033  165033    15732798         Ulyanov          850    France    Male   \n",
       "\n",
       "         Age  Tenure    Balance  NumOfProducts  HasCrCard  IsActiveMember  \\\n",
       "0       33.0       3       0.00              2        1.0             0.0   \n",
       "1       33.0       1       0.00              2        1.0             1.0   \n",
       "2       40.0      10       0.00              2        1.0             0.0   \n",
       "3       34.0       2  148882.54              1        1.0             1.0   \n",
       "4       33.0       5       0.00              2        1.0             1.0   \n",
       "...      ...     ...        ...            ...        ...             ...   \n",
       "165029  33.0       2       0.00              1        1.0             1.0   \n",
       "165030  35.0       3       0.00              1        0.0             0.0   \n",
       "165031  31.0       5       0.00              1        1.0             1.0   \n",
       "165032  30.0       7  161533.00              1        0.0             1.0   \n",
       "165033  31.0       1       0.00              1        1.0             0.0   \n",
       "\n",
       "        EstimatedSalary  Exited  \n",
       "0             181449.97       0  \n",
       "1              49503.50       0  \n",
       "2             184866.69       0  \n",
       "3              84560.88       0  \n",
       "4              15068.83       0  \n",
       "...                 ...     ...  \n",
       "165029        131834.75       0  \n",
       "165030        131834.45       0  \n",
       "165031        127429.56       0  \n",
       "165032         71173.03       0  \n",
       "165033         61581.79       1  \n",
       "\n",
       "[165034 rows x 14 columns]"
      ]
     },
     "execution_count": 3,
     "metadata": {},
     "output_type": "execute_result"
    }
   ],
   "source": [
    "train_data = pd.read_csv(\"train.csv\")\n",
    "train_data"
   ]
  },
  {
   "cell_type": "code",
   "execution_count": 4,
   "id": "8beb25ec",
   "metadata": {
    "execution": {
     "iopub.execute_input": "2024-01-27T17:07:42.634613Z",
     "iopub.status.busy": "2024-01-27T17:07:42.634235Z",
     "iopub.status.idle": "2024-01-27T17:07:42.911810Z",
     "shell.execute_reply": "2024-01-27T17:07:42.910750Z"
    },
    "papermill": {
     "duration": 0.293206,
     "end_time": "2024-01-27T17:07:42.914007",
     "exception": false,
     "start_time": "2024-01-27T17:07:42.620801",
     "status": "completed"
    },
    "tags": []
   },
   "outputs": [],
   "source": [
    "test_data = pd.read_csv(\"test.csv\")"
   ]
  },
  {
   "cell_type": "markdown",
   "id": "541947e5",
   "metadata": {
    "papermill": {
     "duration": 0.013089,
     "end_time": "2024-01-27T17:07:42.939952",
     "exception": false,
     "start_time": "2024-01-27T17:07:42.926863",
     "status": "completed"
    },
    "tags": []
   },
   "source": [
    "# Data Cleaning and Preprocessing"
   ]
  },
  {
   "cell_type": "code",
   "execution_count": 5,
   "id": "b79e06db",
   "metadata": {
    "execution": {
     "iopub.execute_input": "2024-01-27T17:07:42.966286Z",
     "iopub.status.busy": "2024-01-27T17:07:42.965955Z",
     "iopub.status.idle": "2024-01-27T17:07:42.991562Z",
     "shell.execute_reply": "2024-01-27T17:07:42.990268Z"
    },
    "papermill": {
     "duration": 0.041259,
     "end_time": "2024-01-27T17:07:42.993575",
     "exception": false,
     "start_time": "2024-01-27T17:07:42.952316",
     "status": "completed"
    },
    "tags": []
   },
   "outputs": [
    {
     "data": {
      "text/plain": [
       "id                 0\n",
       "CustomerId         0\n",
       "Surname            0\n",
       "CreditScore        0\n",
       "Geography          0\n",
       "Gender             0\n",
       "Age                0\n",
       "Tenure             0\n",
       "Balance            0\n",
       "NumOfProducts      0\n",
       "HasCrCard          0\n",
       "IsActiveMember     0\n",
       "EstimatedSalary    0\n",
       "Exited             0\n",
       "dtype: int64"
      ]
     },
     "execution_count": 5,
     "metadata": {},
     "output_type": "execute_result"
    }
   ],
   "source": [
    "train_data.isna().sum()"
   ]
  },
  {
   "cell_type": "code",
   "execution_count": 6,
   "id": "a6c7b07d",
   "metadata": {
    "execution": {
     "iopub.execute_input": "2024-01-27T17:07:43.020498Z",
     "iopub.status.busy": "2024-01-27T17:07:43.020108Z",
     "iopub.status.idle": "2024-01-27T17:07:43.111671Z",
     "shell.execute_reply": "2024-01-27T17:07:43.110721Z"
    },
    "papermill": {
     "duration": 0.107505,
     "end_time": "2024-01-27T17:07:43.113906",
     "exception": false,
     "start_time": "2024-01-27T17:07:43.006401",
     "status": "completed"
    },
    "tags": []
   },
   "outputs": [
    {
     "name": "stdout",
     "output_type": "stream",
     "text": [
      "0\n"
     ]
    }
   ],
   "source": [
    "print(train_data.duplicated().sum())"
   ]
  },
  {
   "cell_type": "code",
   "execution_count": 7,
   "id": "db91826f",
   "metadata": {
    "execution": {
     "iopub.execute_input": "2024-01-27T17:07:43.140167Z",
     "iopub.status.busy": "2024-01-27T17:07:43.139758Z",
     "iopub.status.idle": "2024-01-27T17:07:43.221685Z",
     "shell.execute_reply": "2024-01-27T17:07:43.220185Z"
    },
    "papermill": {
     "duration": 0.097846,
     "end_time": "2024-01-27T17:07:43.224256",
     "exception": false,
     "start_time": "2024-01-27T17:07:43.126410",
     "status": "completed"
    },
    "tags": []
   },
   "outputs": [
    {
     "data": {
      "text/html": [
       "<div>\n",
       "<style scoped>\n",
       "    .dataframe tbody tr th:only-of-type {\n",
       "        vertical-align: middle;\n",
       "    }\n",
       "\n",
       "    .dataframe tbody tr th {\n",
       "        vertical-align: top;\n",
       "    }\n",
       "\n",
       "    .dataframe thead th {\n",
       "        text-align: right;\n",
       "    }\n",
       "</style>\n",
       "<table border=\"1\" class=\"dataframe\">\n",
       "  <thead>\n",
       "    <tr style=\"text-align: right;\">\n",
       "      <th></th>\n",
       "      <th>id</th>\n",
       "      <th>CustomerId</th>\n",
       "      <th>CreditScore</th>\n",
       "      <th>Age</th>\n",
       "      <th>Tenure</th>\n",
       "      <th>Balance</th>\n",
       "      <th>NumOfProducts</th>\n",
       "      <th>HasCrCard</th>\n",
       "      <th>IsActiveMember</th>\n",
       "      <th>EstimatedSalary</th>\n",
       "      <th>Exited</th>\n",
       "    </tr>\n",
       "  </thead>\n",
       "  <tbody>\n",
       "    <tr>\n",
       "      <th>count</th>\n",
       "      <td>165034.0000</td>\n",
       "      <td>1.650340e+05</td>\n",
       "      <td>165034.000000</td>\n",
       "      <td>165034.000000</td>\n",
       "      <td>165034.000000</td>\n",
       "      <td>165034.000000</td>\n",
       "      <td>165034.000000</td>\n",
       "      <td>165034.000000</td>\n",
       "      <td>165034.000000</td>\n",
       "      <td>165034.000000</td>\n",
       "      <td>165034.000000</td>\n",
       "    </tr>\n",
       "    <tr>\n",
       "      <th>mean</th>\n",
       "      <td>82516.5000</td>\n",
       "      <td>1.569201e+07</td>\n",
       "      <td>656.454373</td>\n",
       "      <td>38.125888</td>\n",
       "      <td>5.020353</td>\n",
       "      <td>55478.086689</td>\n",
       "      <td>1.554455</td>\n",
       "      <td>0.753954</td>\n",
       "      <td>0.497770</td>\n",
       "      <td>112574.822734</td>\n",
       "      <td>0.211599</td>\n",
       "    </tr>\n",
       "    <tr>\n",
       "      <th>std</th>\n",
       "      <td>47641.3565</td>\n",
       "      <td>7.139782e+04</td>\n",
       "      <td>80.103340</td>\n",
       "      <td>8.867205</td>\n",
       "      <td>2.806159</td>\n",
       "      <td>62817.663278</td>\n",
       "      <td>0.547154</td>\n",
       "      <td>0.430707</td>\n",
       "      <td>0.499997</td>\n",
       "      <td>50292.865585</td>\n",
       "      <td>0.408443</td>\n",
       "    </tr>\n",
       "    <tr>\n",
       "      <th>min</th>\n",
       "      <td>0.0000</td>\n",
       "      <td>1.556570e+07</td>\n",
       "      <td>350.000000</td>\n",
       "      <td>18.000000</td>\n",
       "      <td>0.000000</td>\n",
       "      <td>0.000000</td>\n",
       "      <td>1.000000</td>\n",
       "      <td>0.000000</td>\n",
       "      <td>0.000000</td>\n",
       "      <td>11.580000</td>\n",
       "      <td>0.000000</td>\n",
       "    </tr>\n",
       "    <tr>\n",
       "      <th>25%</th>\n",
       "      <td>41258.2500</td>\n",
       "      <td>1.563314e+07</td>\n",
       "      <td>597.000000</td>\n",
       "      <td>32.000000</td>\n",
       "      <td>3.000000</td>\n",
       "      <td>0.000000</td>\n",
       "      <td>1.000000</td>\n",
       "      <td>1.000000</td>\n",
       "      <td>0.000000</td>\n",
       "      <td>74637.570000</td>\n",
       "      <td>0.000000</td>\n",
       "    </tr>\n",
       "    <tr>\n",
       "      <th>50%</th>\n",
       "      <td>82516.5000</td>\n",
       "      <td>1.569017e+07</td>\n",
       "      <td>659.000000</td>\n",
       "      <td>37.000000</td>\n",
       "      <td>5.000000</td>\n",
       "      <td>0.000000</td>\n",
       "      <td>2.000000</td>\n",
       "      <td>1.000000</td>\n",
       "      <td>0.000000</td>\n",
       "      <td>117948.000000</td>\n",
       "      <td>0.000000</td>\n",
       "    </tr>\n",
       "    <tr>\n",
       "      <th>75%</th>\n",
       "      <td>123774.7500</td>\n",
       "      <td>1.575682e+07</td>\n",
       "      <td>710.000000</td>\n",
       "      <td>42.000000</td>\n",
       "      <td>7.000000</td>\n",
       "      <td>119939.517500</td>\n",
       "      <td>2.000000</td>\n",
       "      <td>1.000000</td>\n",
       "      <td>1.000000</td>\n",
       "      <td>155152.467500</td>\n",
       "      <td>0.000000</td>\n",
       "    </tr>\n",
       "    <tr>\n",
       "      <th>max</th>\n",
       "      <td>165033.0000</td>\n",
       "      <td>1.581569e+07</td>\n",
       "      <td>850.000000</td>\n",
       "      <td>92.000000</td>\n",
       "      <td>10.000000</td>\n",
       "      <td>250898.090000</td>\n",
       "      <td>4.000000</td>\n",
       "      <td>1.000000</td>\n",
       "      <td>1.000000</td>\n",
       "      <td>199992.480000</td>\n",
       "      <td>1.000000</td>\n",
       "    </tr>\n",
       "  </tbody>\n",
       "</table>\n",
       "</div>"
      ],
      "text/plain": [
       "                id    CustomerId    CreditScore            Age         Tenure  \\\n",
       "count  165034.0000  1.650340e+05  165034.000000  165034.000000  165034.000000   \n",
       "mean    82516.5000  1.569201e+07     656.454373      38.125888       5.020353   \n",
       "std     47641.3565  7.139782e+04      80.103340       8.867205       2.806159   \n",
       "min         0.0000  1.556570e+07     350.000000      18.000000       0.000000   \n",
       "25%     41258.2500  1.563314e+07     597.000000      32.000000       3.000000   \n",
       "50%     82516.5000  1.569017e+07     659.000000      37.000000       5.000000   \n",
       "75%    123774.7500  1.575682e+07     710.000000      42.000000       7.000000   \n",
       "max    165033.0000  1.581569e+07     850.000000      92.000000      10.000000   \n",
       "\n",
       "             Balance  NumOfProducts      HasCrCard  IsActiveMember  \\\n",
       "count  165034.000000  165034.000000  165034.000000   165034.000000   \n",
       "mean    55478.086689       1.554455       0.753954        0.497770   \n",
       "std     62817.663278       0.547154       0.430707        0.499997   \n",
       "min         0.000000       1.000000       0.000000        0.000000   \n",
       "25%         0.000000       1.000000       1.000000        0.000000   \n",
       "50%         0.000000       2.000000       1.000000        0.000000   \n",
       "75%    119939.517500       2.000000       1.000000        1.000000   \n",
       "max    250898.090000       4.000000       1.000000        1.000000   \n",
       "\n",
       "       EstimatedSalary         Exited  \n",
       "count    165034.000000  165034.000000  \n",
       "mean     112574.822734       0.211599  \n",
       "std       50292.865585       0.408443  \n",
       "min          11.580000       0.000000  \n",
       "25%       74637.570000       0.000000  \n",
       "50%      117948.000000       0.000000  \n",
       "75%      155152.467500       0.000000  \n",
       "max      199992.480000       1.000000  "
      ]
     },
     "execution_count": 7,
     "metadata": {},
     "output_type": "execute_result"
    }
   ],
   "source": [
    "train_data.describe()"
   ]
  },
  {
   "cell_type": "markdown",
   "id": "07d96d18",
   "metadata": {
    "papermill": {
     "duration": 0.012318,
     "end_time": "2024-01-27T17:07:43.250098",
     "exception": false,
     "start_time": "2024-01-27T17:07:43.237780",
     "status": "completed"
    },
    "tags": []
   },
   "source": [
    "## Dropping \"id\", \"CustomerId\", \"Surname\" columns as they might not make much of a difference to the final predictions"
   ]
  },
  {
   "cell_type": "code",
   "execution_count": 8,
   "id": "ab01b25c",
   "metadata": {
    "execution": {
     "iopub.execute_input": "2024-01-27T17:07:43.276564Z",
     "iopub.status.busy": "2024-01-27T17:07:43.276192Z",
     "iopub.status.idle": "2024-01-27T17:07:43.286539Z",
     "shell.execute_reply": "2024-01-27T17:07:43.285779Z"
    },
    "papermill": {
     "duration": 0.026224,
     "end_time": "2024-01-27T17:07:43.288845",
     "exception": false,
     "start_time": "2024-01-27T17:07:43.262621",
     "status": "completed"
    },
    "tags": []
   },
   "outputs": [],
   "source": [
    "train_data1 = train_data.drop([\"id\", \"CustomerId\", \"Surname\"], axis = 1)"
   ]
  },
  {
   "cell_type": "code",
   "execution_count": 9,
   "id": "76b441a8",
   "metadata": {
    "execution": {
     "iopub.execute_input": "2024-01-27T17:07:43.317861Z",
     "iopub.status.busy": "2024-01-27T17:07:43.317490Z",
     "iopub.status.idle": "2024-01-27T17:07:43.324907Z",
     "shell.execute_reply": "2024-01-27T17:07:43.323694Z"
    },
    "papermill": {
     "duration": 0.025219,
     "end_time": "2024-01-27T17:07:43.327431",
     "exception": false,
     "start_time": "2024-01-27T17:07:43.302212",
     "status": "completed"
    },
    "tags": []
   },
   "outputs": [
    {
     "data": {
      "text/plain": [
       "CreditScore          int64\n",
       "Geography           object\n",
       "Gender              object\n",
       "Age                float64\n",
       "Tenure               int64\n",
       "Balance            float64\n",
       "NumOfProducts        int64\n",
       "HasCrCard          float64\n",
       "IsActiveMember     float64\n",
       "EstimatedSalary    float64\n",
       "Exited               int64\n",
       "dtype: object"
      ]
     },
     "execution_count": 9,
     "metadata": {},
     "output_type": "execute_result"
    }
   ],
   "source": [
    "train_data1.dtypes"
   ]
  },
  {
   "cell_type": "markdown",
   "id": "51dee5ea",
   "metadata": {
    "papermill": {
     "duration": 0.012339,
     "end_time": "2024-01-27T17:07:43.405092",
     "exception": false,
     "start_time": "2024-01-27T17:07:43.392753",
     "status": "completed"
    },
    "tags": []
   },
   "source": [
    "### Applying one-hot encoding to 'Geography' and 'Gender' columns which converts these feature values into type 'int' and also provides\n",
    "### additional feature which can be correlated with the target feature i.e.'Exited'"
   ]
  },
  {
   "cell_type": "markdown",
   "id": "5890df38",
   "metadata": {
    "papermill": {
     "duration": 0.012411,
     "end_time": "2024-01-27T17:07:43.430273",
     "exception": false,
     "start_time": "2024-01-27T17:07:43.417862",
     "status": "completed"
    },
    "tags": []
   },
   "source": [
    "### Also applied one-hot encoding instead of ordinal encoding as ordinal encoding is beneficial when there exists a hierarchy\n",
    "### among the categorical values which wasn't the case here."
   ]
  },
  {
   "cell_type": "code",
   "execution_count": 10,
   "id": "fa1fe6fe",
   "metadata": {
    "execution": {
     "iopub.execute_input": "2024-01-27T17:07:43.457039Z",
     "iopub.status.busy": "2024-01-27T17:07:43.456686Z",
     "iopub.status.idle": "2024-01-27T17:07:44.882468Z",
     "shell.execute_reply": "2024-01-27T17:07:44.881097Z"
    },
    "papermill": {
     "duration": 1.442218,
     "end_time": "2024-01-27T17:07:44.884997",
     "exception": false,
     "start_time": "2024-01-27T17:07:43.442779",
     "status": "completed"
    },
    "tags": []
   },
   "outputs": [],
   "source": [
    "import matplotlib.pyplot as plt\n",
    "import seaborn as sns"
   ]
  },
  {
   "cell_type": "code",
   "execution_count": 11,
   "id": "175a6f6b",
   "metadata": {
    "execution": {
     "iopub.execute_input": "2024-01-27T17:07:44.914927Z",
     "iopub.status.busy": "2024-01-27T17:07:44.914567Z",
     "iopub.status.idle": "2024-01-27T17:07:44.922836Z",
     "shell.execute_reply": "2024-01-27T17:07:44.921531Z"
    },
    "papermill": {
     "duration": 0.026531,
     "end_time": "2024-01-27T17:07:44.925272",
     "exception": false,
     "start_time": "2024-01-27T17:07:44.898741",
     "status": "completed"
    },
    "tags": []
   },
   "outputs": [],
   "source": [
    "test_data1 = test_data.drop([\"id\", \"CustomerId\", \"Surname\"], axis = 1)"
   ]
  },
  {
   "cell_type": "code",
   "execution_count": 12,
   "id": "4c2835f3",
   "metadata": {
    "execution": {
     "iopub.execute_input": "2024-01-27T17:07:44.953647Z",
     "iopub.status.busy": "2024-01-27T17:07:44.953252Z",
     "iopub.status.idle": "2024-01-27T17:07:44.975300Z",
     "shell.execute_reply": "2024-01-27T17:07:44.973498Z"
    },
    "papermill": {
     "duration": 0.038928,
     "end_time": "2024-01-27T17:07:44.977619",
     "exception": false,
     "start_time": "2024-01-27T17:07:44.938691",
     "status": "completed"
    },
    "tags": []
   },
   "outputs": [],
   "source": [
    "n1 = pd.get_dummies(train_data1[\"Geography\"])"
   ]
  },
  {
   "cell_type": "code",
   "execution_count": 13,
   "id": "6a481963",
   "metadata": {
    "execution": {
     "iopub.execute_input": "2024-01-27T17:07:45.006080Z",
     "iopub.status.busy": "2024-01-27T17:07:45.005675Z",
     "iopub.status.idle": "2024-01-27T17:07:45.011719Z",
     "shell.execute_reply": "2024-01-27T17:07:45.010465Z"
    },
    "papermill": {
     "duration": 0.022973,
     "end_time": "2024-01-27T17:07:45.014226",
     "exception": false,
     "start_time": "2024-01-27T17:07:44.991253",
     "status": "completed"
    },
    "tags": []
   },
   "outputs": [],
   "source": [
    "n1 = n1.astype(\"int\")"
   ]
  },
  {
   "cell_type": "code",
   "execution_count": 14,
   "id": "7a717031",
   "metadata": {
    "execution": {
     "iopub.execute_input": "2024-01-27T17:07:45.042895Z",
     "iopub.status.busy": "2024-01-27T17:07:45.042545Z",
     "iopub.status.idle": "2024-01-27T17:07:45.055587Z",
     "shell.execute_reply": "2024-01-27T17:07:45.054523Z"
    },
    "papermill": {
     "duration": 0.029805,
     "end_time": "2024-01-27T17:07:45.057807",
     "exception": false,
     "start_time": "2024-01-27T17:07:45.028002",
     "status": "completed"
    },
    "tags": []
   },
   "outputs": [],
   "source": [
    "train_data2 = pd.concat([train_data1, n1], axis = 1)"
   ]
  },
  {
   "cell_type": "code",
   "execution_count": 15,
   "id": "d1418a7b",
   "metadata": {
    "execution": {
     "iopub.execute_input": "2024-01-27T17:07:45.086242Z",
     "iopub.status.busy": "2024-01-27T17:07:45.085895Z",
     "iopub.status.idle": "2024-01-27T17:07:45.104483Z",
     "shell.execute_reply": "2024-01-27T17:07:45.103477Z"
    },
    "papermill": {
     "duration": 0.035844,
     "end_time": "2024-01-27T17:07:45.106852",
     "exception": false,
     "start_time": "2024-01-27T17:07:45.071008",
     "status": "completed"
    },
    "tags": []
   },
   "outputs": [],
   "source": [
    "n2 = pd.get_dummies(train_data2[\"Gender\"])"
   ]
  },
  {
   "cell_type": "code",
   "execution_count": 16,
   "id": "9d274f43",
   "metadata": {
    "execution": {
     "iopub.execute_input": "2024-01-27T17:07:45.136428Z",
     "iopub.status.busy": "2024-01-27T17:07:45.134117Z",
     "iopub.status.idle": "2024-01-27T17:07:45.142202Z",
     "shell.execute_reply": "2024-01-27T17:07:45.140596Z"
    },
    "papermill": {
     "duration": 0.024928,
     "end_time": "2024-01-27T17:07:45.144856",
     "exception": false,
     "start_time": "2024-01-27T17:07:45.119928",
     "status": "completed"
    },
    "tags": []
   },
   "outputs": [],
   "source": [
    "n2 = n2.astype(\"int\")"
   ]
  },
  {
   "cell_type": "code",
   "execution_count": 17,
   "id": "290e40dc",
   "metadata": {
    "execution": {
     "iopub.execute_input": "2024-01-27T17:07:45.172737Z",
     "iopub.status.busy": "2024-01-27T17:07:45.172385Z",
     "iopub.status.idle": "2024-01-27T17:07:45.188216Z",
     "shell.execute_reply": "2024-01-27T17:07:45.187072Z"
    },
    "papermill": {
     "duration": 0.032994,
     "end_time": "2024-01-27T17:07:45.191089",
     "exception": false,
     "start_time": "2024-01-27T17:07:45.158095",
     "status": "completed"
    },
    "tags": []
   },
   "outputs": [],
   "source": [
    "train_data2 = pd.concat([train_data2, n2], axis = 1)"
   ]
  },
  {
   "cell_type": "code",
   "execution_count": 18,
   "id": "f89bf574",
   "metadata": {
    "execution": {
     "iopub.execute_input": "2024-01-27T17:07:45.219167Z",
     "iopub.status.busy": "2024-01-27T17:07:45.218808Z",
     "iopub.status.idle": "2024-01-27T17:07:45.245843Z",
     "shell.execute_reply": "2024-01-27T17:07:45.244786Z"
    },
    "papermill": {
     "duration": 0.043538,
     "end_time": "2024-01-27T17:07:45.248329",
     "exception": false,
     "start_time": "2024-01-27T17:07:45.204791",
     "status": "completed"
    },
    "tags": []
   },
   "outputs": [
    {
     "data": {
      "text/html": [
       "<div>\n",
       "<style scoped>\n",
       "    .dataframe tbody tr th:only-of-type {\n",
       "        vertical-align: middle;\n",
       "    }\n",
       "\n",
       "    .dataframe tbody tr th {\n",
       "        vertical-align: top;\n",
       "    }\n",
       "\n",
       "    .dataframe thead th {\n",
       "        text-align: right;\n",
       "    }\n",
       "</style>\n",
       "<table border=\"1\" class=\"dataframe\">\n",
       "  <thead>\n",
       "    <tr style=\"text-align: right;\">\n",
       "      <th></th>\n",
       "      <th>CreditScore</th>\n",
       "      <th>Geography</th>\n",
       "      <th>Gender</th>\n",
       "      <th>Age</th>\n",
       "      <th>Tenure</th>\n",
       "      <th>Balance</th>\n",
       "      <th>NumOfProducts</th>\n",
       "      <th>HasCrCard</th>\n",
       "      <th>IsActiveMember</th>\n",
       "      <th>EstimatedSalary</th>\n",
       "      <th>Exited</th>\n",
       "      <th>France</th>\n",
       "      <th>Germany</th>\n",
       "      <th>Spain</th>\n",
       "      <th>Female</th>\n",
       "      <th>Male</th>\n",
       "    </tr>\n",
       "  </thead>\n",
       "  <tbody>\n",
       "    <tr>\n",
       "      <th>0</th>\n",
       "      <td>668</td>\n",
       "      <td>France</td>\n",
       "      <td>Male</td>\n",
       "      <td>33.0</td>\n",
       "      <td>3</td>\n",
       "      <td>0.00</td>\n",
       "      <td>2</td>\n",
       "      <td>1.0</td>\n",
       "      <td>0.0</td>\n",
       "      <td>181449.97</td>\n",
       "      <td>0</td>\n",
       "      <td>1</td>\n",
       "      <td>0</td>\n",
       "      <td>0</td>\n",
       "      <td>0</td>\n",
       "      <td>1</td>\n",
       "    </tr>\n",
       "    <tr>\n",
       "      <th>1</th>\n",
       "      <td>627</td>\n",
       "      <td>France</td>\n",
       "      <td>Male</td>\n",
       "      <td>33.0</td>\n",
       "      <td>1</td>\n",
       "      <td>0.00</td>\n",
       "      <td>2</td>\n",
       "      <td>1.0</td>\n",
       "      <td>1.0</td>\n",
       "      <td>49503.50</td>\n",
       "      <td>0</td>\n",
       "      <td>1</td>\n",
       "      <td>0</td>\n",
       "      <td>0</td>\n",
       "      <td>0</td>\n",
       "      <td>1</td>\n",
       "    </tr>\n",
       "    <tr>\n",
       "      <th>2</th>\n",
       "      <td>678</td>\n",
       "      <td>France</td>\n",
       "      <td>Male</td>\n",
       "      <td>40.0</td>\n",
       "      <td>10</td>\n",
       "      <td>0.00</td>\n",
       "      <td>2</td>\n",
       "      <td>1.0</td>\n",
       "      <td>0.0</td>\n",
       "      <td>184866.69</td>\n",
       "      <td>0</td>\n",
       "      <td>1</td>\n",
       "      <td>0</td>\n",
       "      <td>0</td>\n",
       "      <td>0</td>\n",
       "      <td>1</td>\n",
       "    </tr>\n",
       "    <tr>\n",
       "      <th>3</th>\n",
       "      <td>581</td>\n",
       "      <td>France</td>\n",
       "      <td>Male</td>\n",
       "      <td>34.0</td>\n",
       "      <td>2</td>\n",
       "      <td>148882.54</td>\n",
       "      <td>1</td>\n",
       "      <td>1.0</td>\n",
       "      <td>1.0</td>\n",
       "      <td>84560.88</td>\n",
       "      <td>0</td>\n",
       "      <td>1</td>\n",
       "      <td>0</td>\n",
       "      <td>0</td>\n",
       "      <td>0</td>\n",
       "      <td>1</td>\n",
       "    </tr>\n",
       "    <tr>\n",
       "      <th>4</th>\n",
       "      <td>716</td>\n",
       "      <td>Spain</td>\n",
       "      <td>Male</td>\n",
       "      <td>33.0</td>\n",
       "      <td>5</td>\n",
       "      <td>0.00</td>\n",
       "      <td>2</td>\n",
       "      <td>1.0</td>\n",
       "      <td>1.0</td>\n",
       "      <td>15068.83</td>\n",
       "      <td>0</td>\n",
       "      <td>0</td>\n",
       "      <td>0</td>\n",
       "      <td>1</td>\n",
       "      <td>0</td>\n",
       "      <td>1</td>\n",
       "    </tr>\n",
       "    <tr>\n",
       "      <th>...</th>\n",
       "      <td>...</td>\n",
       "      <td>...</td>\n",
       "      <td>...</td>\n",
       "      <td>...</td>\n",
       "      <td>...</td>\n",
       "      <td>...</td>\n",
       "      <td>...</td>\n",
       "      <td>...</td>\n",
       "      <td>...</td>\n",
       "      <td>...</td>\n",
       "      <td>...</td>\n",
       "      <td>...</td>\n",
       "      <td>...</td>\n",
       "      <td>...</td>\n",
       "      <td>...</td>\n",
       "      <td>...</td>\n",
       "    </tr>\n",
       "    <tr>\n",
       "      <th>165029</th>\n",
       "      <td>667</td>\n",
       "      <td>Spain</td>\n",
       "      <td>Female</td>\n",
       "      <td>33.0</td>\n",
       "      <td>2</td>\n",
       "      <td>0.00</td>\n",
       "      <td>1</td>\n",
       "      <td>1.0</td>\n",
       "      <td>1.0</td>\n",
       "      <td>131834.75</td>\n",
       "      <td>0</td>\n",
       "      <td>0</td>\n",
       "      <td>0</td>\n",
       "      <td>1</td>\n",
       "      <td>1</td>\n",
       "      <td>0</td>\n",
       "    </tr>\n",
       "    <tr>\n",
       "      <th>165030</th>\n",
       "      <td>792</td>\n",
       "      <td>France</td>\n",
       "      <td>Male</td>\n",
       "      <td>35.0</td>\n",
       "      <td>3</td>\n",
       "      <td>0.00</td>\n",
       "      <td>1</td>\n",
       "      <td>0.0</td>\n",
       "      <td>0.0</td>\n",
       "      <td>131834.45</td>\n",
       "      <td>0</td>\n",
       "      <td>1</td>\n",
       "      <td>0</td>\n",
       "      <td>0</td>\n",
       "      <td>0</td>\n",
       "      <td>1</td>\n",
       "    </tr>\n",
       "    <tr>\n",
       "      <th>165031</th>\n",
       "      <td>565</td>\n",
       "      <td>France</td>\n",
       "      <td>Male</td>\n",
       "      <td>31.0</td>\n",
       "      <td>5</td>\n",
       "      <td>0.00</td>\n",
       "      <td>1</td>\n",
       "      <td>1.0</td>\n",
       "      <td>1.0</td>\n",
       "      <td>127429.56</td>\n",
       "      <td>0</td>\n",
       "      <td>1</td>\n",
       "      <td>0</td>\n",
       "      <td>0</td>\n",
       "      <td>0</td>\n",
       "      <td>1</td>\n",
       "    </tr>\n",
       "    <tr>\n",
       "      <th>165032</th>\n",
       "      <td>554</td>\n",
       "      <td>Spain</td>\n",
       "      <td>Female</td>\n",
       "      <td>30.0</td>\n",
       "      <td>7</td>\n",
       "      <td>161533.00</td>\n",
       "      <td>1</td>\n",
       "      <td>0.0</td>\n",
       "      <td>1.0</td>\n",
       "      <td>71173.03</td>\n",
       "      <td>0</td>\n",
       "      <td>0</td>\n",
       "      <td>0</td>\n",
       "      <td>1</td>\n",
       "      <td>1</td>\n",
       "      <td>0</td>\n",
       "    </tr>\n",
       "    <tr>\n",
       "      <th>165033</th>\n",
       "      <td>850</td>\n",
       "      <td>France</td>\n",
       "      <td>Male</td>\n",
       "      <td>31.0</td>\n",
       "      <td>1</td>\n",
       "      <td>0.00</td>\n",
       "      <td>1</td>\n",
       "      <td>1.0</td>\n",
       "      <td>0.0</td>\n",
       "      <td>61581.79</td>\n",
       "      <td>1</td>\n",
       "      <td>1</td>\n",
       "      <td>0</td>\n",
       "      <td>0</td>\n",
       "      <td>0</td>\n",
       "      <td>1</td>\n",
       "    </tr>\n",
       "  </tbody>\n",
       "</table>\n",
       "<p>165034 rows × 16 columns</p>\n",
       "</div>"
      ],
      "text/plain": [
       "        CreditScore Geography  Gender   Age  Tenure    Balance  NumOfProducts  \\\n",
       "0               668    France    Male  33.0       3       0.00              2   \n",
       "1               627    France    Male  33.0       1       0.00              2   \n",
       "2               678    France    Male  40.0      10       0.00              2   \n",
       "3               581    France    Male  34.0       2  148882.54              1   \n",
       "4               716     Spain    Male  33.0       5       0.00              2   \n",
       "...             ...       ...     ...   ...     ...        ...            ...   \n",
       "165029          667     Spain  Female  33.0       2       0.00              1   \n",
       "165030          792    France    Male  35.0       3       0.00              1   \n",
       "165031          565    France    Male  31.0       5       0.00              1   \n",
       "165032          554     Spain  Female  30.0       7  161533.00              1   \n",
       "165033          850    France    Male  31.0       1       0.00              1   \n",
       "\n",
       "        HasCrCard  IsActiveMember  EstimatedSalary  Exited  France  Germany  \\\n",
       "0             1.0             0.0        181449.97       0       1        0   \n",
       "1             1.0             1.0         49503.50       0       1        0   \n",
       "2             1.0             0.0        184866.69       0       1        0   \n",
       "3             1.0             1.0         84560.88       0       1        0   \n",
       "4             1.0             1.0         15068.83       0       0        0   \n",
       "...           ...             ...              ...     ...     ...      ...   \n",
       "165029        1.0             1.0        131834.75       0       0        0   \n",
       "165030        0.0             0.0        131834.45       0       1        0   \n",
       "165031        1.0             1.0        127429.56       0       1        0   \n",
       "165032        0.0             1.0         71173.03       0       0        0   \n",
       "165033        1.0             0.0         61581.79       1       1        0   \n",
       "\n",
       "        Spain  Female  Male  \n",
       "0           0       0     1  \n",
       "1           0       0     1  \n",
       "2           0       0     1  \n",
       "3           0       0     1  \n",
       "4           1       0     1  \n",
       "...       ...     ...   ...  \n",
       "165029      1       1     0  \n",
       "165030      0       0     1  \n",
       "165031      0       0     1  \n",
       "165032      1       1     0  \n",
       "165033      0       0     1  \n",
       "\n",
       "[165034 rows x 16 columns]"
      ]
     },
     "execution_count": 18,
     "metadata": {},
     "output_type": "execute_result"
    }
   ],
   "source": [
    "train_data2"
   ]
  },
  {
   "cell_type": "code",
   "execution_count": 19,
   "id": "b2d90685",
   "metadata": {
    "execution": {
     "iopub.execute_input": "2024-01-27T17:07:45.277139Z",
     "iopub.status.busy": "2024-01-27T17:07:45.276733Z",
     "iopub.status.idle": "2024-01-27T17:07:45.284714Z",
     "shell.execute_reply": "2024-01-27T17:07:45.283450Z"
    },
    "papermill": {
     "duration": 0.024652,
     "end_time": "2024-01-27T17:07:45.286585",
     "exception": false,
     "start_time": "2024-01-27T17:07:45.261933",
     "status": "completed"
    },
    "tags": []
   },
   "outputs": [],
   "source": [
    "train_data3 = train_data2.drop([\"Geography\", \"Gender\", \"Male\"], axis = 1)"
   ]
  },
  {
   "cell_type": "code",
   "execution_count": 20,
   "id": "a5e6ceac",
   "metadata": {
    "execution": {
     "iopub.execute_input": "2024-01-27T17:07:45.316986Z",
     "iopub.status.busy": "2024-01-27T17:07:45.316650Z",
     "iopub.status.idle": "2024-01-27T17:07:45.338029Z",
     "shell.execute_reply": "2024-01-27T17:07:45.337090Z"
    },
    "papermill": {
     "duration": 0.038956,
     "end_time": "2024-01-27T17:07:45.340043",
     "exception": false,
     "start_time": "2024-01-27T17:07:45.301087",
     "status": "completed"
    },
    "tags": []
   },
   "outputs": [
    {
     "data": {
      "text/html": [
       "<div>\n",
       "<style scoped>\n",
       "    .dataframe tbody tr th:only-of-type {\n",
       "        vertical-align: middle;\n",
       "    }\n",
       "\n",
       "    .dataframe tbody tr th {\n",
       "        vertical-align: top;\n",
       "    }\n",
       "\n",
       "    .dataframe thead th {\n",
       "        text-align: right;\n",
       "    }\n",
       "</style>\n",
       "<table border=\"1\" class=\"dataframe\">\n",
       "  <thead>\n",
       "    <tr style=\"text-align: right;\">\n",
       "      <th></th>\n",
       "      <th>CreditScore</th>\n",
       "      <th>Age</th>\n",
       "      <th>Tenure</th>\n",
       "      <th>Balance</th>\n",
       "      <th>NumOfProducts</th>\n",
       "      <th>HasCrCard</th>\n",
       "      <th>IsActiveMember</th>\n",
       "      <th>EstimatedSalary</th>\n",
       "      <th>Exited</th>\n",
       "      <th>France</th>\n",
       "      <th>Germany</th>\n",
       "      <th>Spain</th>\n",
       "      <th>Female</th>\n",
       "    </tr>\n",
       "  </thead>\n",
       "  <tbody>\n",
       "    <tr>\n",
       "      <th>0</th>\n",
       "      <td>668</td>\n",
       "      <td>33.0</td>\n",
       "      <td>3</td>\n",
       "      <td>0.00</td>\n",
       "      <td>2</td>\n",
       "      <td>1.0</td>\n",
       "      <td>0.0</td>\n",
       "      <td>181449.97</td>\n",
       "      <td>0</td>\n",
       "      <td>1</td>\n",
       "      <td>0</td>\n",
       "      <td>0</td>\n",
       "      <td>0</td>\n",
       "    </tr>\n",
       "    <tr>\n",
       "      <th>1</th>\n",
       "      <td>627</td>\n",
       "      <td>33.0</td>\n",
       "      <td>1</td>\n",
       "      <td>0.00</td>\n",
       "      <td>2</td>\n",
       "      <td>1.0</td>\n",
       "      <td>1.0</td>\n",
       "      <td>49503.50</td>\n",
       "      <td>0</td>\n",
       "      <td>1</td>\n",
       "      <td>0</td>\n",
       "      <td>0</td>\n",
       "      <td>0</td>\n",
       "    </tr>\n",
       "    <tr>\n",
       "      <th>2</th>\n",
       "      <td>678</td>\n",
       "      <td>40.0</td>\n",
       "      <td>10</td>\n",
       "      <td>0.00</td>\n",
       "      <td>2</td>\n",
       "      <td>1.0</td>\n",
       "      <td>0.0</td>\n",
       "      <td>184866.69</td>\n",
       "      <td>0</td>\n",
       "      <td>1</td>\n",
       "      <td>0</td>\n",
       "      <td>0</td>\n",
       "      <td>0</td>\n",
       "    </tr>\n",
       "    <tr>\n",
       "      <th>3</th>\n",
       "      <td>581</td>\n",
       "      <td>34.0</td>\n",
       "      <td>2</td>\n",
       "      <td>148882.54</td>\n",
       "      <td>1</td>\n",
       "      <td>1.0</td>\n",
       "      <td>1.0</td>\n",
       "      <td>84560.88</td>\n",
       "      <td>0</td>\n",
       "      <td>1</td>\n",
       "      <td>0</td>\n",
       "      <td>0</td>\n",
       "      <td>0</td>\n",
       "    </tr>\n",
       "    <tr>\n",
       "      <th>4</th>\n",
       "      <td>716</td>\n",
       "      <td>33.0</td>\n",
       "      <td>5</td>\n",
       "      <td>0.00</td>\n",
       "      <td>2</td>\n",
       "      <td>1.0</td>\n",
       "      <td>1.0</td>\n",
       "      <td>15068.83</td>\n",
       "      <td>0</td>\n",
       "      <td>0</td>\n",
       "      <td>0</td>\n",
       "      <td>1</td>\n",
       "      <td>0</td>\n",
       "    </tr>\n",
       "    <tr>\n",
       "      <th>...</th>\n",
       "      <td>...</td>\n",
       "      <td>...</td>\n",
       "      <td>...</td>\n",
       "      <td>...</td>\n",
       "      <td>...</td>\n",
       "      <td>...</td>\n",
       "      <td>...</td>\n",
       "      <td>...</td>\n",
       "      <td>...</td>\n",
       "      <td>...</td>\n",
       "      <td>...</td>\n",
       "      <td>...</td>\n",
       "      <td>...</td>\n",
       "    </tr>\n",
       "    <tr>\n",
       "      <th>165029</th>\n",
       "      <td>667</td>\n",
       "      <td>33.0</td>\n",
       "      <td>2</td>\n",
       "      <td>0.00</td>\n",
       "      <td>1</td>\n",
       "      <td>1.0</td>\n",
       "      <td>1.0</td>\n",
       "      <td>131834.75</td>\n",
       "      <td>0</td>\n",
       "      <td>0</td>\n",
       "      <td>0</td>\n",
       "      <td>1</td>\n",
       "      <td>1</td>\n",
       "    </tr>\n",
       "    <tr>\n",
       "      <th>165030</th>\n",
       "      <td>792</td>\n",
       "      <td>35.0</td>\n",
       "      <td>3</td>\n",
       "      <td>0.00</td>\n",
       "      <td>1</td>\n",
       "      <td>0.0</td>\n",
       "      <td>0.0</td>\n",
       "      <td>131834.45</td>\n",
       "      <td>0</td>\n",
       "      <td>1</td>\n",
       "      <td>0</td>\n",
       "      <td>0</td>\n",
       "      <td>0</td>\n",
       "    </tr>\n",
       "    <tr>\n",
       "      <th>165031</th>\n",
       "      <td>565</td>\n",
       "      <td>31.0</td>\n",
       "      <td>5</td>\n",
       "      <td>0.00</td>\n",
       "      <td>1</td>\n",
       "      <td>1.0</td>\n",
       "      <td>1.0</td>\n",
       "      <td>127429.56</td>\n",
       "      <td>0</td>\n",
       "      <td>1</td>\n",
       "      <td>0</td>\n",
       "      <td>0</td>\n",
       "      <td>0</td>\n",
       "    </tr>\n",
       "    <tr>\n",
       "      <th>165032</th>\n",
       "      <td>554</td>\n",
       "      <td>30.0</td>\n",
       "      <td>7</td>\n",
       "      <td>161533.00</td>\n",
       "      <td>1</td>\n",
       "      <td>0.0</td>\n",
       "      <td>1.0</td>\n",
       "      <td>71173.03</td>\n",
       "      <td>0</td>\n",
       "      <td>0</td>\n",
       "      <td>0</td>\n",
       "      <td>1</td>\n",
       "      <td>1</td>\n",
       "    </tr>\n",
       "    <tr>\n",
       "      <th>165033</th>\n",
       "      <td>850</td>\n",
       "      <td>31.0</td>\n",
       "      <td>1</td>\n",
       "      <td>0.00</td>\n",
       "      <td>1</td>\n",
       "      <td>1.0</td>\n",
       "      <td>0.0</td>\n",
       "      <td>61581.79</td>\n",
       "      <td>1</td>\n",
       "      <td>1</td>\n",
       "      <td>0</td>\n",
       "      <td>0</td>\n",
       "      <td>0</td>\n",
       "    </tr>\n",
       "  </tbody>\n",
       "</table>\n",
       "<p>165034 rows × 13 columns</p>\n",
       "</div>"
      ],
      "text/plain": [
       "        CreditScore   Age  Tenure    Balance  NumOfProducts  HasCrCard  \\\n",
       "0               668  33.0       3       0.00              2        1.0   \n",
       "1               627  33.0       1       0.00              2        1.0   \n",
       "2               678  40.0      10       0.00              2        1.0   \n",
       "3               581  34.0       2  148882.54              1        1.0   \n",
       "4               716  33.0       5       0.00              2        1.0   \n",
       "...             ...   ...     ...        ...            ...        ...   \n",
       "165029          667  33.0       2       0.00              1        1.0   \n",
       "165030          792  35.0       3       0.00              1        0.0   \n",
       "165031          565  31.0       5       0.00              1        1.0   \n",
       "165032          554  30.0       7  161533.00              1        0.0   \n",
       "165033          850  31.0       1       0.00              1        1.0   \n",
       "\n",
       "        IsActiveMember  EstimatedSalary  Exited  France  Germany  Spain  \\\n",
       "0                  0.0        181449.97       0       1        0      0   \n",
       "1                  1.0         49503.50       0       1        0      0   \n",
       "2                  0.0        184866.69       0       1        0      0   \n",
       "3                  1.0         84560.88       0       1        0      0   \n",
       "4                  1.0         15068.83       0       0        0      1   \n",
       "...                ...              ...     ...     ...      ...    ...   \n",
       "165029             1.0        131834.75       0       0        0      1   \n",
       "165030             0.0        131834.45       0       1        0      0   \n",
       "165031             1.0        127429.56       0       1        0      0   \n",
       "165032             1.0         71173.03       0       0        0      1   \n",
       "165033             0.0         61581.79       1       1        0      0   \n",
       "\n",
       "        Female  \n",
       "0            0  \n",
       "1            0  \n",
       "2            0  \n",
       "3            0  \n",
       "4            0  \n",
       "...        ...  \n",
       "165029       1  \n",
       "165030       0  \n",
       "165031       0  \n",
       "165032       1  \n",
       "165033       0  \n",
       "\n",
       "[165034 rows x 13 columns]"
      ]
     },
     "execution_count": 20,
     "metadata": {},
     "output_type": "execute_result"
    }
   ],
   "source": [
    "train_data3"
   ]
  },
  {
   "cell_type": "code",
   "execution_count": 21,
   "id": "44968dab",
   "metadata": {
    "execution": {
     "iopub.execute_input": "2024-01-27T17:07:45.369250Z",
     "iopub.status.busy": "2024-01-27T17:07:45.368940Z",
     "iopub.status.idle": "2024-01-27T17:07:45.391443Z",
     "shell.execute_reply": "2024-01-27T17:07:45.390256Z"
    },
    "papermill": {
     "duration": 0.040136,
     "end_time": "2024-01-27T17:07:45.393946",
     "exception": false,
     "start_time": "2024-01-27T17:07:45.353810",
     "status": "completed"
    },
    "tags": []
   },
   "outputs": [
    {
     "name": "stdout",
     "output_type": "stream",
     "text": [
      "<class 'pandas.core.frame.DataFrame'>\n",
      "RangeIndex: 165034 entries, 0 to 165033\n",
      "Data columns (total 13 columns):\n",
      " #   Column           Non-Null Count   Dtype  \n",
      "---  ------           --------------   -----  \n",
      " 0   CreditScore      165034 non-null  int64  \n",
      " 1   Age              165034 non-null  float64\n",
      " 2   Tenure           165034 non-null  int64  \n",
      " 3   Balance          165034 non-null  float64\n",
      " 4   NumOfProducts    165034 non-null  int64  \n",
      " 5   HasCrCard        165034 non-null  float64\n",
      " 6   IsActiveMember   165034 non-null  float64\n",
      " 7   EstimatedSalary  165034 non-null  float64\n",
      " 8   Exited           165034 non-null  int64  \n",
      " 9   France           165034 non-null  int32  \n",
      " 10  Germany          165034 non-null  int32  \n",
      " 11  Spain            165034 non-null  int32  \n",
      " 12  Female           165034 non-null  int32  \n",
      "dtypes: float64(5), int32(4), int64(4)\n",
      "memory usage: 13.9 MB\n"
     ]
    }
   ],
   "source": [
    "train_data3.info()"
   ]
  },
  {
   "cell_type": "code",
   "execution_count": 22,
   "id": "c0e81ee2",
   "metadata": {
    "execution": {
     "iopub.execute_input": "2024-01-27T17:07:45.423972Z",
     "iopub.status.busy": "2024-01-27T17:07:45.423580Z",
     "iopub.status.idle": "2024-01-27T17:07:45.444054Z",
     "shell.execute_reply": "2024-01-27T17:07:45.442979Z"
    },
    "papermill": {
     "duration": 0.03757,
     "end_time": "2024-01-27T17:07:45.445858",
     "exception": false,
     "start_time": "2024-01-27T17:07:45.408288",
     "status": "completed"
    },
    "tags": []
   },
   "outputs": [
    {
     "data": {
      "text/html": [
       "<div>\n",
       "<style scoped>\n",
       "    .dataframe tbody tr th:only-of-type {\n",
       "        vertical-align: middle;\n",
       "    }\n",
       "\n",
       "    .dataframe tbody tr th {\n",
       "        vertical-align: top;\n",
       "    }\n",
       "\n",
       "    .dataframe thead th {\n",
       "        text-align: right;\n",
       "    }\n",
       "</style>\n",
       "<table border=\"1\" class=\"dataframe\">\n",
       "  <thead>\n",
       "    <tr style=\"text-align: right;\">\n",
       "      <th></th>\n",
       "      <th>CreditScore</th>\n",
       "      <th>Geography</th>\n",
       "      <th>Gender</th>\n",
       "      <th>Age</th>\n",
       "      <th>Tenure</th>\n",
       "      <th>Balance</th>\n",
       "      <th>NumOfProducts</th>\n",
       "      <th>HasCrCard</th>\n",
       "      <th>IsActiveMember</th>\n",
       "      <th>EstimatedSalary</th>\n",
       "    </tr>\n",
       "  </thead>\n",
       "  <tbody>\n",
       "    <tr>\n",
       "      <th>0</th>\n",
       "      <td>586</td>\n",
       "      <td>France</td>\n",
       "      <td>Female</td>\n",
       "      <td>23.0</td>\n",
       "      <td>2</td>\n",
       "      <td>0.00</td>\n",
       "      <td>2</td>\n",
       "      <td>0.0</td>\n",
       "      <td>1.0</td>\n",
       "      <td>160976.75</td>\n",
       "    </tr>\n",
       "    <tr>\n",
       "      <th>1</th>\n",
       "      <td>683</td>\n",
       "      <td>France</td>\n",
       "      <td>Female</td>\n",
       "      <td>46.0</td>\n",
       "      <td>2</td>\n",
       "      <td>0.00</td>\n",
       "      <td>1</td>\n",
       "      <td>1.0</td>\n",
       "      <td>0.0</td>\n",
       "      <td>72549.27</td>\n",
       "    </tr>\n",
       "    <tr>\n",
       "      <th>2</th>\n",
       "      <td>656</td>\n",
       "      <td>France</td>\n",
       "      <td>Female</td>\n",
       "      <td>34.0</td>\n",
       "      <td>7</td>\n",
       "      <td>0.00</td>\n",
       "      <td>2</td>\n",
       "      <td>1.0</td>\n",
       "      <td>0.0</td>\n",
       "      <td>138882.09</td>\n",
       "    </tr>\n",
       "    <tr>\n",
       "      <th>3</th>\n",
       "      <td>681</td>\n",
       "      <td>France</td>\n",
       "      <td>Male</td>\n",
       "      <td>36.0</td>\n",
       "      <td>8</td>\n",
       "      <td>0.00</td>\n",
       "      <td>1</td>\n",
       "      <td>1.0</td>\n",
       "      <td>0.0</td>\n",
       "      <td>113931.57</td>\n",
       "    </tr>\n",
       "    <tr>\n",
       "      <th>4</th>\n",
       "      <td>752</td>\n",
       "      <td>Germany</td>\n",
       "      <td>Male</td>\n",
       "      <td>38.0</td>\n",
       "      <td>10</td>\n",
       "      <td>121263.62</td>\n",
       "      <td>1</td>\n",
       "      <td>1.0</td>\n",
       "      <td>0.0</td>\n",
       "      <td>139431.00</td>\n",
       "    </tr>\n",
       "    <tr>\n",
       "      <th>...</th>\n",
       "      <td>...</td>\n",
       "      <td>...</td>\n",
       "      <td>...</td>\n",
       "      <td>...</td>\n",
       "      <td>...</td>\n",
       "      <td>...</td>\n",
       "      <td>...</td>\n",
       "      <td>...</td>\n",
       "      <td>...</td>\n",
       "      <td>...</td>\n",
       "    </tr>\n",
       "    <tr>\n",
       "      <th>110018</th>\n",
       "      <td>570</td>\n",
       "      <td>Spain</td>\n",
       "      <td>Male</td>\n",
       "      <td>29.0</td>\n",
       "      <td>7</td>\n",
       "      <td>116099.82</td>\n",
       "      <td>1</td>\n",
       "      <td>1.0</td>\n",
       "      <td>1.0</td>\n",
       "      <td>148087.62</td>\n",
       "    </tr>\n",
       "    <tr>\n",
       "      <th>110019</th>\n",
       "      <td>575</td>\n",
       "      <td>France</td>\n",
       "      <td>Female</td>\n",
       "      <td>36.0</td>\n",
       "      <td>4</td>\n",
       "      <td>178032.53</td>\n",
       "      <td>1</td>\n",
       "      <td>1.0</td>\n",
       "      <td>1.0</td>\n",
       "      <td>42181.68</td>\n",
       "    </tr>\n",
       "    <tr>\n",
       "      <th>110020</th>\n",
       "      <td>712</td>\n",
       "      <td>France</td>\n",
       "      <td>Male</td>\n",
       "      <td>31.0</td>\n",
       "      <td>2</td>\n",
       "      <td>0.00</td>\n",
       "      <td>2</td>\n",
       "      <td>1.0</td>\n",
       "      <td>0.0</td>\n",
       "      <td>16287.38</td>\n",
       "    </tr>\n",
       "    <tr>\n",
       "      <th>110021</th>\n",
       "      <td>709</td>\n",
       "      <td>France</td>\n",
       "      <td>Female</td>\n",
       "      <td>32.0</td>\n",
       "      <td>3</td>\n",
       "      <td>0.00</td>\n",
       "      <td>1</td>\n",
       "      <td>1.0</td>\n",
       "      <td>1.0</td>\n",
       "      <td>158816.58</td>\n",
       "    </tr>\n",
       "    <tr>\n",
       "      <th>110022</th>\n",
       "      <td>621</td>\n",
       "      <td>France</td>\n",
       "      <td>Female</td>\n",
       "      <td>37.0</td>\n",
       "      <td>7</td>\n",
       "      <td>87848.39</td>\n",
       "      <td>1</td>\n",
       "      <td>1.0</td>\n",
       "      <td>0.0</td>\n",
       "      <td>24210.56</td>\n",
       "    </tr>\n",
       "  </tbody>\n",
       "</table>\n",
       "<p>110023 rows × 10 columns</p>\n",
       "</div>"
      ],
      "text/plain": [
       "        CreditScore Geography  Gender   Age  Tenure    Balance  NumOfProducts  \\\n",
       "0               586    France  Female  23.0       2       0.00              2   \n",
       "1               683    France  Female  46.0       2       0.00              1   \n",
       "2               656    France  Female  34.0       7       0.00              2   \n",
       "3               681    France    Male  36.0       8       0.00              1   \n",
       "4               752   Germany    Male  38.0      10  121263.62              1   \n",
       "...             ...       ...     ...   ...     ...        ...            ...   \n",
       "110018          570     Spain    Male  29.0       7  116099.82              1   \n",
       "110019          575    France  Female  36.0       4  178032.53              1   \n",
       "110020          712    France    Male  31.0       2       0.00              2   \n",
       "110021          709    France  Female  32.0       3       0.00              1   \n",
       "110022          621    France  Female  37.0       7   87848.39              1   \n",
       "\n",
       "        HasCrCard  IsActiveMember  EstimatedSalary  \n",
       "0             0.0             1.0        160976.75  \n",
       "1             1.0             0.0         72549.27  \n",
       "2             1.0             0.0        138882.09  \n",
       "3             1.0             0.0        113931.57  \n",
       "4             1.0             0.0        139431.00  \n",
       "...           ...             ...              ...  \n",
       "110018        1.0             1.0        148087.62  \n",
       "110019        1.0             1.0         42181.68  \n",
       "110020        1.0             0.0         16287.38  \n",
       "110021        1.0             1.0        158816.58  \n",
       "110022        1.0             0.0         24210.56  \n",
       "\n",
       "[110023 rows x 10 columns]"
      ]
     },
     "execution_count": 22,
     "metadata": {},
     "output_type": "execute_result"
    }
   ],
   "source": [
    "test_data1"
   ]
  },
  {
   "cell_type": "code",
   "execution_count": 23,
   "id": "efd175f6",
   "metadata": {
    "execution": {
     "iopub.execute_input": "2024-01-27T17:07:45.475185Z",
     "iopub.status.busy": "2024-01-27T17:07:45.474773Z",
     "iopub.status.idle": "2024-01-27T17:07:45.511957Z",
     "shell.execute_reply": "2024-01-27T17:07:45.510457Z"
    },
    "papermill": {
     "duration": 0.054746,
     "end_time": "2024-01-27T17:07:45.514466",
     "exception": false,
     "start_time": "2024-01-27T17:07:45.459720",
     "status": "completed"
    },
    "tags": []
   },
   "outputs": [
    {
     "data": {
      "text/html": [
       "<div>\n",
       "<style scoped>\n",
       "    .dataframe tbody tr th:only-of-type {\n",
       "        vertical-align: middle;\n",
       "    }\n",
       "\n",
       "    .dataframe tbody tr th {\n",
       "        vertical-align: top;\n",
       "    }\n",
       "\n",
       "    .dataframe thead th {\n",
       "        text-align: right;\n",
       "    }\n",
       "</style>\n",
       "<table border=\"1\" class=\"dataframe\">\n",
       "  <thead>\n",
       "    <tr style=\"text-align: right;\">\n",
       "      <th></th>\n",
       "      <th>CreditScore</th>\n",
       "      <th>Geography</th>\n",
       "      <th>Gender</th>\n",
       "      <th>Age</th>\n",
       "      <th>Tenure</th>\n",
       "      <th>Balance</th>\n",
       "      <th>NumOfProducts</th>\n",
       "      <th>HasCrCard</th>\n",
       "      <th>IsActiveMember</th>\n",
       "      <th>EstimatedSalary</th>\n",
       "      <th>France</th>\n",
       "      <th>Germany</th>\n",
       "      <th>Spain</th>\n",
       "    </tr>\n",
       "  </thead>\n",
       "  <tbody>\n",
       "    <tr>\n",
       "      <th>0</th>\n",
       "      <td>586</td>\n",
       "      <td>France</td>\n",
       "      <td>Female</td>\n",
       "      <td>23.0</td>\n",
       "      <td>2</td>\n",
       "      <td>0.00</td>\n",
       "      <td>2</td>\n",
       "      <td>0.0</td>\n",
       "      <td>1.0</td>\n",
       "      <td>160976.75</td>\n",
       "      <td>1</td>\n",
       "      <td>0</td>\n",
       "      <td>0</td>\n",
       "    </tr>\n",
       "    <tr>\n",
       "      <th>1</th>\n",
       "      <td>683</td>\n",
       "      <td>France</td>\n",
       "      <td>Female</td>\n",
       "      <td>46.0</td>\n",
       "      <td>2</td>\n",
       "      <td>0.00</td>\n",
       "      <td>1</td>\n",
       "      <td>1.0</td>\n",
       "      <td>0.0</td>\n",
       "      <td>72549.27</td>\n",
       "      <td>1</td>\n",
       "      <td>0</td>\n",
       "      <td>0</td>\n",
       "    </tr>\n",
       "    <tr>\n",
       "      <th>2</th>\n",
       "      <td>656</td>\n",
       "      <td>France</td>\n",
       "      <td>Female</td>\n",
       "      <td>34.0</td>\n",
       "      <td>7</td>\n",
       "      <td>0.00</td>\n",
       "      <td>2</td>\n",
       "      <td>1.0</td>\n",
       "      <td>0.0</td>\n",
       "      <td>138882.09</td>\n",
       "      <td>1</td>\n",
       "      <td>0</td>\n",
       "      <td>0</td>\n",
       "    </tr>\n",
       "    <tr>\n",
       "      <th>3</th>\n",
       "      <td>681</td>\n",
       "      <td>France</td>\n",
       "      <td>Male</td>\n",
       "      <td>36.0</td>\n",
       "      <td>8</td>\n",
       "      <td>0.00</td>\n",
       "      <td>1</td>\n",
       "      <td>1.0</td>\n",
       "      <td>0.0</td>\n",
       "      <td>113931.57</td>\n",
       "      <td>1</td>\n",
       "      <td>0</td>\n",
       "      <td>0</td>\n",
       "    </tr>\n",
       "    <tr>\n",
       "      <th>4</th>\n",
       "      <td>752</td>\n",
       "      <td>Germany</td>\n",
       "      <td>Male</td>\n",
       "      <td>38.0</td>\n",
       "      <td>10</td>\n",
       "      <td>121263.62</td>\n",
       "      <td>1</td>\n",
       "      <td>1.0</td>\n",
       "      <td>0.0</td>\n",
       "      <td>139431.00</td>\n",
       "      <td>0</td>\n",
       "      <td>1</td>\n",
       "      <td>0</td>\n",
       "    </tr>\n",
       "    <tr>\n",
       "      <th>...</th>\n",
       "      <td>...</td>\n",
       "      <td>...</td>\n",
       "      <td>...</td>\n",
       "      <td>...</td>\n",
       "      <td>...</td>\n",
       "      <td>...</td>\n",
       "      <td>...</td>\n",
       "      <td>...</td>\n",
       "      <td>...</td>\n",
       "      <td>...</td>\n",
       "      <td>...</td>\n",
       "      <td>...</td>\n",
       "      <td>...</td>\n",
       "    </tr>\n",
       "    <tr>\n",
       "      <th>110018</th>\n",
       "      <td>570</td>\n",
       "      <td>Spain</td>\n",
       "      <td>Male</td>\n",
       "      <td>29.0</td>\n",
       "      <td>7</td>\n",
       "      <td>116099.82</td>\n",
       "      <td>1</td>\n",
       "      <td>1.0</td>\n",
       "      <td>1.0</td>\n",
       "      <td>148087.62</td>\n",
       "      <td>0</td>\n",
       "      <td>0</td>\n",
       "      <td>1</td>\n",
       "    </tr>\n",
       "    <tr>\n",
       "      <th>110019</th>\n",
       "      <td>575</td>\n",
       "      <td>France</td>\n",
       "      <td>Female</td>\n",
       "      <td>36.0</td>\n",
       "      <td>4</td>\n",
       "      <td>178032.53</td>\n",
       "      <td>1</td>\n",
       "      <td>1.0</td>\n",
       "      <td>1.0</td>\n",
       "      <td>42181.68</td>\n",
       "      <td>1</td>\n",
       "      <td>0</td>\n",
       "      <td>0</td>\n",
       "    </tr>\n",
       "    <tr>\n",
       "      <th>110020</th>\n",
       "      <td>712</td>\n",
       "      <td>France</td>\n",
       "      <td>Male</td>\n",
       "      <td>31.0</td>\n",
       "      <td>2</td>\n",
       "      <td>0.00</td>\n",
       "      <td>2</td>\n",
       "      <td>1.0</td>\n",
       "      <td>0.0</td>\n",
       "      <td>16287.38</td>\n",
       "      <td>1</td>\n",
       "      <td>0</td>\n",
       "      <td>0</td>\n",
       "    </tr>\n",
       "    <tr>\n",
       "      <th>110021</th>\n",
       "      <td>709</td>\n",
       "      <td>France</td>\n",
       "      <td>Female</td>\n",
       "      <td>32.0</td>\n",
       "      <td>3</td>\n",
       "      <td>0.00</td>\n",
       "      <td>1</td>\n",
       "      <td>1.0</td>\n",
       "      <td>1.0</td>\n",
       "      <td>158816.58</td>\n",
       "      <td>1</td>\n",
       "      <td>0</td>\n",
       "      <td>0</td>\n",
       "    </tr>\n",
       "    <tr>\n",
       "      <th>110022</th>\n",
       "      <td>621</td>\n",
       "      <td>France</td>\n",
       "      <td>Female</td>\n",
       "      <td>37.0</td>\n",
       "      <td>7</td>\n",
       "      <td>87848.39</td>\n",
       "      <td>1</td>\n",
       "      <td>1.0</td>\n",
       "      <td>0.0</td>\n",
       "      <td>24210.56</td>\n",
       "      <td>1</td>\n",
       "      <td>0</td>\n",
       "      <td>0</td>\n",
       "    </tr>\n",
       "  </tbody>\n",
       "</table>\n",
       "<p>110023 rows × 13 columns</p>\n",
       "</div>"
      ],
      "text/plain": [
       "        CreditScore Geography  Gender   Age  Tenure    Balance  NumOfProducts  \\\n",
       "0               586    France  Female  23.0       2       0.00              2   \n",
       "1               683    France  Female  46.0       2       0.00              1   \n",
       "2               656    France  Female  34.0       7       0.00              2   \n",
       "3               681    France    Male  36.0       8       0.00              1   \n",
       "4               752   Germany    Male  38.0      10  121263.62              1   \n",
       "...             ...       ...     ...   ...     ...        ...            ...   \n",
       "110018          570     Spain    Male  29.0       7  116099.82              1   \n",
       "110019          575    France  Female  36.0       4  178032.53              1   \n",
       "110020          712    France    Male  31.0       2       0.00              2   \n",
       "110021          709    France  Female  32.0       3       0.00              1   \n",
       "110022          621    France  Female  37.0       7   87848.39              1   \n",
       "\n",
       "        HasCrCard  IsActiveMember  EstimatedSalary  France  Germany  Spain  \n",
       "0             0.0             1.0        160976.75       1        0      0  \n",
       "1             1.0             0.0         72549.27       1        0      0  \n",
       "2             1.0             0.0        138882.09       1        0      0  \n",
       "3             1.0             0.0        113931.57       1        0      0  \n",
       "4             1.0             0.0        139431.00       0        1      0  \n",
       "...           ...             ...              ...     ...      ...    ...  \n",
       "110018        1.0             1.0        148087.62       0        0      1  \n",
       "110019        1.0             1.0         42181.68       1        0      0  \n",
       "110020        1.0             0.0         16287.38       1        0      0  \n",
       "110021        1.0             1.0        158816.58       1        0      0  \n",
       "110022        1.0             0.0         24210.56       1        0      0  \n",
       "\n",
       "[110023 rows x 13 columns]"
      ]
     },
     "execution_count": 23,
     "metadata": {},
     "output_type": "execute_result"
    }
   ],
   "source": [
    "t1 = pd.get_dummies(test_data1[\"Geography\"])\n",
    "t1 = t1.astype(\"int\")\n",
    "test_data2 = pd.concat([test_data1, t1], axis = 1)\n",
    "test_data2"
   ]
  },
  {
   "cell_type": "code",
   "execution_count": 24,
   "id": "b31fb879",
   "metadata": {
    "execution": {
     "iopub.execute_input": "2024-01-27T17:07:45.545114Z",
     "iopub.status.busy": "2024-01-27T17:07:45.544746Z",
     "iopub.status.idle": "2024-01-27T17:07:45.584489Z",
     "shell.execute_reply": "2024-01-27T17:07:45.583429Z"
    },
    "papermill": {
     "duration": 0.057136,
     "end_time": "2024-01-27T17:07:45.586329",
     "exception": false,
     "start_time": "2024-01-27T17:07:45.529193",
     "status": "completed"
    },
    "tags": []
   },
   "outputs": [
    {
     "data": {
      "text/html": [
       "<div>\n",
       "<style scoped>\n",
       "    .dataframe tbody tr th:only-of-type {\n",
       "        vertical-align: middle;\n",
       "    }\n",
       "\n",
       "    .dataframe tbody tr th {\n",
       "        vertical-align: top;\n",
       "    }\n",
       "\n",
       "    .dataframe thead th {\n",
       "        text-align: right;\n",
       "    }\n",
       "</style>\n",
       "<table border=\"1\" class=\"dataframe\">\n",
       "  <thead>\n",
       "    <tr style=\"text-align: right;\">\n",
       "      <th></th>\n",
       "      <th>CreditScore</th>\n",
       "      <th>Geography</th>\n",
       "      <th>Gender</th>\n",
       "      <th>Age</th>\n",
       "      <th>Tenure</th>\n",
       "      <th>Balance</th>\n",
       "      <th>NumOfProducts</th>\n",
       "      <th>HasCrCard</th>\n",
       "      <th>IsActiveMember</th>\n",
       "      <th>EstimatedSalary</th>\n",
       "      <th>France</th>\n",
       "      <th>Germany</th>\n",
       "      <th>Spain</th>\n",
       "      <th>Female</th>\n",
       "      <th>Male</th>\n",
       "    </tr>\n",
       "  </thead>\n",
       "  <tbody>\n",
       "    <tr>\n",
       "      <th>0</th>\n",
       "      <td>586</td>\n",
       "      <td>France</td>\n",
       "      <td>Female</td>\n",
       "      <td>23.0</td>\n",
       "      <td>2</td>\n",
       "      <td>0.00</td>\n",
       "      <td>2</td>\n",
       "      <td>0.0</td>\n",
       "      <td>1.0</td>\n",
       "      <td>160976.75</td>\n",
       "      <td>1</td>\n",
       "      <td>0</td>\n",
       "      <td>0</td>\n",
       "      <td>1</td>\n",
       "      <td>0</td>\n",
       "    </tr>\n",
       "    <tr>\n",
       "      <th>1</th>\n",
       "      <td>683</td>\n",
       "      <td>France</td>\n",
       "      <td>Female</td>\n",
       "      <td>46.0</td>\n",
       "      <td>2</td>\n",
       "      <td>0.00</td>\n",
       "      <td>1</td>\n",
       "      <td>1.0</td>\n",
       "      <td>0.0</td>\n",
       "      <td>72549.27</td>\n",
       "      <td>1</td>\n",
       "      <td>0</td>\n",
       "      <td>0</td>\n",
       "      <td>1</td>\n",
       "      <td>0</td>\n",
       "    </tr>\n",
       "    <tr>\n",
       "      <th>2</th>\n",
       "      <td>656</td>\n",
       "      <td>France</td>\n",
       "      <td>Female</td>\n",
       "      <td>34.0</td>\n",
       "      <td>7</td>\n",
       "      <td>0.00</td>\n",
       "      <td>2</td>\n",
       "      <td>1.0</td>\n",
       "      <td>0.0</td>\n",
       "      <td>138882.09</td>\n",
       "      <td>1</td>\n",
       "      <td>0</td>\n",
       "      <td>0</td>\n",
       "      <td>1</td>\n",
       "      <td>0</td>\n",
       "    </tr>\n",
       "    <tr>\n",
       "      <th>3</th>\n",
       "      <td>681</td>\n",
       "      <td>France</td>\n",
       "      <td>Male</td>\n",
       "      <td>36.0</td>\n",
       "      <td>8</td>\n",
       "      <td>0.00</td>\n",
       "      <td>1</td>\n",
       "      <td>1.0</td>\n",
       "      <td>0.0</td>\n",
       "      <td>113931.57</td>\n",
       "      <td>1</td>\n",
       "      <td>0</td>\n",
       "      <td>0</td>\n",
       "      <td>0</td>\n",
       "      <td>1</td>\n",
       "    </tr>\n",
       "    <tr>\n",
       "      <th>4</th>\n",
       "      <td>752</td>\n",
       "      <td>Germany</td>\n",
       "      <td>Male</td>\n",
       "      <td>38.0</td>\n",
       "      <td>10</td>\n",
       "      <td>121263.62</td>\n",
       "      <td>1</td>\n",
       "      <td>1.0</td>\n",
       "      <td>0.0</td>\n",
       "      <td>139431.00</td>\n",
       "      <td>0</td>\n",
       "      <td>1</td>\n",
       "      <td>0</td>\n",
       "      <td>0</td>\n",
       "      <td>1</td>\n",
       "    </tr>\n",
       "    <tr>\n",
       "      <th>...</th>\n",
       "      <td>...</td>\n",
       "      <td>...</td>\n",
       "      <td>...</td>\n",
       "      <td>...</td>\n",
       "      <td>...</td>\n",
       "      <td>...</td>\n",
       "      <td>...</td>\n",
       "      <td>...</td>\n",
       "      <td>...</td>\n",
       "      <td>...</td>\n",
       "      <td>...</td>\n",
       "      <td>...</td>\n",
       "      <td>...</td>\n",
       "      <td>...</td>\n",
       "      <td>...</td>\n",
       "    </tr>\n",
       "    <tr>\n",
       "      <th>110018</th>\n",
       "      <td>570</td>\n",
       "      <td>Spain</td>\n",
       "      <td>Male</td>\n",
       "      <td>29.0</td>\n",
       "      <td>7</td>\n",
       "      <td>116099.82</td>\n",
       "      <td>1</td>\n",
       "      <td>1.0</td>\n",
       "      <td>1.0</td>\n",
       "      <td>148087.62</td>\n",
       "      <td>0</td>\n",
       "      <td>0</td>\n",
       "      <td>1</td>\n",
       "      <td>0</td>\n",
       "      <td>1</td>\n",
       "    </tr>\n",
       "    <tr>\n",
       "      <th>110019</th>\n",
       "      <td>575</td>\n",
       "      <td>France</td>\n",
       "      <td>Female</td>\n",
       "      <td>36.0</td>\n",
       "      <td>4</td>\n",
       "      <td>178032.53</td>\n",
       "      <td>1</td>\n",
       "      <td>1.0</td>\n",
       "      <td>1.0</td>\n",
       "      <td>42181.68</td>\n",
       "      <td>1</td>\n",
       "      <td>0</td>\n",
       "      <td>0</td>\n",
       "      <td>1</td>\n",
       "      <td>0</td>\n",
       "    </tr>\n",
       "    <tr>\n",
       "      <th>110020</th>\n",
       "      <td>712</td>\n",
       "      <td>France</td>\n",
       "      <td>Male</td>\n",
       "      <td>31.0</td>\n",
       "      <td>2</td>\n",
       "      <td>0.00</td>\n",
       "      <td>2</td>\n",
       "      <td>1.0</td>\n",
       "      <td>0.0</td>\n",
       "      <td>16287.38</td>\n",
       "      <td>1</td>\n",
       "      <td>0</td>\n",
       "      <td>0</td>\n",
       "      <td>0</td>\n",
       "      <td>1</td>\n",
       "    </tr>\n",
       "    <tr>\n",
       "      <th>110021</th>\n",
       "      <td>709</td>\n",
       "      <td>France</td>\n",
       "      <td>Female</td>\n",
       "      <td>32.0</td>\n",
       "      <td>3</td>\n",
       "      <td>0.00</td>\n",
       "      <td>1</td>\n",
       "      <td>1.0</td>\n",
       "      <td>1.0</td>\n",
       "      <td>158816.58</td>\n",
       "      <td>1</td>\n",
       "      <td>0</td>\n",
       "      <td>0</td>\n",
       "      <td>1</td>\n",
       "      <td>0</td>\n",
       "    </tr>\n",
       "    <tr>\n",
       "      <th>110022</th>\n",
       "      <td>621</td>\n",
       "      <td>France</td>\n",
       "      <td>Female</td>\n",
       "      <td>37.0</td>\n",
       "      <td>7</td>\n",
       "      <td>87848.39</td>\n",
       "      <td>1</td>\n",
       "      <td>1.0</td>\n",
       "      <td>0.0</td>\n",
       "      <td>24210.56</td>\n",
       "      <td>1</td>\n",
       "      <td>0</td>\n",
       "      <td>0</td>\n",
       "      <td>1</td>\n",
       "      <td>0</td>\n",
       "    </tr>\n",
       "  </tbody>\n",
       "</table>\n",
       "<p>110023 rows × 15 columns</p>\n",
       "</div>"
      ],
      "text/plain": [
       "        CreditScore Geography  Gender   Age  Tenure    Balance  NumOfProducts  \\\n",
       "0               586    France  Female  23.0       2       0.00              2   \n",
       "1               683    France  Female  46.0       2       0.00              1   \n",
       "2               656    France  Female  34.0       7       0.00              2   \n",
       "3               681    France    Male  36.0       8       0.00              1   \n",
       "4               752   Germany    Male  38.0      10  121263.62              1   \n",
       "...             ...       ...     ...   ...     ...        ...            ...   \n",
       "110018          570     Spain    Male  29.0       7  116099.82              1   \n",
       "110019          575    France  Female  36.0       4  178032.53              1   \n",
       "110020          712    France    Male  31.0       2       0.00              2   \n",
       "110021          709    France  Female  32.0       3       0.00              1   \n",
       "110022          621    France  Female  37.0       7   87848.39              1   \n",
       "\n",
       "        HasCrCard  IsActiveMember  EstimatedSalary  France  Germany  Spain  \\\n",
       "0             0.0             1.0        160976.75       1        0      0   \n",
       "1             1.0             0.0         72549.27       1        0      0   \n",
       "2             1.0             0.0        138882.09       1        0      0   \n",
       "3             1.0             0.0        113931.57       1        0      0   \n",
       "4             1.0             0.0        139431.00       0        1      0   \n",
       "...           ...             ...              ...     ...      ...    ...   \n",
       "110018        1.0             1.0        148087.62       0        0      1   \n",
       "110019        1.0             1.0         42181.68       1        0      0   \n",
       "110020        1.0             0.0         16287.38       1        0      0   \n",
       "110021        1.0             1.0        158816.58       1        0      0   \n",
       "110022        1.0             0.0         24210.56       1        0      0   \n",
       "\n",
       "        Female  Male  \n",
       "0            1     0  \n",
       "1            1     0  \n",
       "2            1     0  \n",
       "3            0     1  \n",
       "4            0     1  \n",
       "...        ...   ...  \n",
       "110018       0     1  \n",
       "110019       1     0  \n",
       "110020       0     1  \n",
       "110021       1     0  \n",
       "110022       1     0  \n",
       "\n",
       "[110023 rows x 15 columns]"
      ]
     },
     "execution_count": 24,
     "metadata": {},
     "output_type": "execute_result"
    }
   ],
   "source": [
    "t2 = pd.get_dummies(test_data1[\"Gender\"])\n",
    "t2 = t2.astype(\"int\")\n",
    "test_data2 = pd.concat([test_data2, t2], axis = 1)\n",
    "test_data2"
   ]
  },
  {
   "cell_type": "code",
   "execution_count": 25,
   "id": "a8435abc",
   "metadata": {
    "execution": {
     "iopub.execute_input": "2024-01-27T17:07:45.618019Z",
     "iopub.status.busy": "2024-01-27T17:07:45.617697Z",
     "iopub.status.idle": "2024-01-27T17:07:45.628100Z",
     "shell.execute_reply": "2024-01-27T17:07:45.627220Z"
    },
    "papermill": {
     "duration": 0.028473,
     "end_time": "2024-01-27T17:07:45.629901",
     "exception": false,
     "start_time": "2024-01-27T17:07:45.601428",
     "status": "completed"
    },
    "tags": []
   },
   "outputs": [],
   "source": [
    "test_data3 = test_data2.drop([\"Geography\", \"Gender\", \"Male\"], axis = 1)"
   ]
  },
  {
   "cell_type": "code",
   "execution_count": 26,
   "id": "9d9ebb2f",
   "metadata": {
    "execution": {
     "iopub.execute_input": "2024-01-27T17:07:45.662285Z",
     "iopub.status.busy": "2024-01-27T17:07:45.661945Z",
     "iopub.status.idle": "2024-01-27T17:07:45.681339Z",
     "shell.execute_reply": "2024-01-27T17:07:45.680088Z"
    },
    "papermill": {
     "duration": 0.038493,
     "end_time": "2024-01-27T17:07:45.683509",
     "exception": false,
     "start_time": "2024-01-27T17:07:45.645016",
     "status": "completed"
    },
    "tags": []
   },
   "outputs": [
    {
     "data": {
      "text/html": [
       "<div>\n",
       "<style scoped>\n",
       "    .dataframe tbody tr th:only-of-type {\n",
       "        vertical-align: middle;\n",
       "    }\n",
       "\n",
       "    .dataframe tbody tr th {\n",
       "        vertical-align: top;\n",
       "    }\n",
       "\n",
       "    .dataframe thead th {\n",
       "        text-align: right;\n",
       "    }\n",
       "</style>\n",
       "<table border=\"1\" class=\"dataframe\">\n",
       "  <thead>\n",
       "    <tr style=\"text-align: right;\">\n",
       "      <th></th>\n",
       "      <th>CreditScore</th>\n",
       "      <th>Age</th>\n",
       "      <th>Tenure</th>\n",
       "      <th>Balance</th>\n",
       "      <th>NumOfProducts</th>\n",
       "      <th>HasCrCard</th>\n",
       "      <th>IsActiveMember</th>\n",
       "      <th>EstimatedSalary</th>\n",
       "      <th>France</th>\n",
       "      <th>Germany</th>\n",
       "      <th>Spain</th>\n",
       "      <th>Female</th>\n",
       "    </tr>\n",
       "  </thead>\n",
       "  <tbody>\n",
       "    <tr>\n",
       "      <th>0</th>\n",
       "      <td>586</td>\n",
       "      <td>23.0</td>\n",
       "      <td>2</td>\n",
       "      <td>0.00</td>\n",
       "      <td>2</td>\n",
       "      <td>0.0</td>\n",
       "      <td>1.0</td>\n",
       "      <td>160976.75</td>\n",
       "      <td>1</td>\n",
       "      <td>0</td>\n",
       "      <td>0</td>\n",
       "      <td>1</td>\n",
       "    </tr>\n",
       "    <tr>\n",
       "      <th>1</th>\n",
       "      <td>683</td>\n",
       "      <td>46.0</td>\n",
       "      <td>2</td>\n",
       "      <td>0.00</td>\n",
       "      <td>1</td>\n",
       "      <td>1.0</td>\n",
       "      <td>0.0</td>\n",
       "      <td>72549.27</td>\n",
       "      <td>1</td>\n",
       "      <td>0</td>\n",
       "      <td>0</td>\n",
       "      <td>1</td>\n",
       "    </tr>\n",
       "    <tr>\n",
       "      <th>2</th>\n",
       "      <td>656</td>\n",
       "      <td>34.0</td>\n",
       "      <td>7</td>\n",
       "      <td>0.00</td>\n",
       "      <td>2</td>\n",
       "      <td>1.0</td>\n",
       "      <td>0.0</td>\n",
       "      <td>138882.09</td>\n",
       "      <td>1</td>\n",
       "      <td>0</td>\n",
       "      <td>0</td>\n",
       "      <td>1</td>\n",
       "    </tr>\n",
       "    <tr>\n",
       "      <th>3</th>\n",
       "      <td>681</td>\n",
       "      <td>36.0</td>\n",
       "      <td>8</td>\n",
       "      <td>0.00</td>\n",
       "      <td>1</td>\n",
       "      <td>1.0</td>\n",
       "      <td>0.0</td>\n",
       "      <td>113931.57</td>\n",
       "      <td>1</td>\n",
       "      <td>0</td>\n",
       "      <td>0</td>\n",
       "      <td>0</td>\n",
       "    </tr>\n",
       "    <tr>\n",
       "      <th>4</th>\n",
       "      <td>752</td>\n",
       "      <td>38.0</td>\n",
       "      <td>10</td>\n",
       "      <td>121263.62</td>\n",
       "      <td>1</td>\n",
       "      <td>1.0</td>\n",
       "      <td>0.0</td>\n",
       "      <td>139431.00</td>\n",
       "      <td>0</td>\n",
       "      <td>1</td>\n",
       "      <td>0</td>\n",
       "      <td>0</td>\n",
       "    </tr>\n",
       "    <tr>\n",
       "      <th>...</th>\n",
       "      <td>...</td>\n",
       "      <td>...</td>\n",
       "      <td>...</td>\n",
       "      <td>...</td>\n",
       "      <td>...</td>\n",
       "      <td>...</td>\n",
       "      <td>...</td>\n",
       "      <td>...</td>\n",
       "      <td>...</td>\n",
       "      <td>...</td>\n",
       "      <td>...</td>\n",
       "      <td>...</td>\n",
       "    </tr>\n",
       "    <tr>\n",
       "      <th>110018</th>\n",
       "      <td>570</td>\n",
       "      <td>29.0</td>\n",
       "      <td>7</td>\n",
       "      <td>116099.82</td>\n",
       "      <td>1</td>\n",
       "      <td>1.0</td>\n",
       "      <td>1.0</td>\n",
       "      <td>148087.62</td>\n",
       "      <td>0</td>\n",
       "      <td>0</td>\n",
       "      <td>1</td>\n",
       "      <td>0</td>\n",
       "    </tr>\n",
       "    <tr>\n",
       "      <th>110019</th>\n",
       "      <td>575</td>\n",
       "      <td>36.0</td>\n",
       "      <td>4</td>\n",
       "      <td>178032.53</td>\n",
       "      <td>1</td>\n",
       "      <td>1.0</td>\n",
       "      <td>1.0</td>\n",
       "      <td>42181.68</td>\n",
       "      <td>1</td>\n",
       "      <td>0</td>\n",
       "      <td>0</td>\n",
       "      <td>1</td>\n",
       "    </tr>\n",
       "    <tr>\n",
       "      <th>110020</th>\n",
       "      <td>712</td>\n",
       "      <td>31.0</td>\n",
       "      <td>2</td>\n",
       "      <td>0.00</td>\n",
       "      <td>2</td>\n",
       "      <td>1.0</td>\n",
       "      <td>0.0</td>\n",
       "      <td>16287.38</td>\n",
       "      <td>1</td>\n",
       "      <td>0</td>\n",
       "      <td>0</td>\n",
       "      <td>0</td>\n",
       "    </tr>\n",
       "    <tr>\n",
       "      <th>110021</th>\n",
       "      <td>709</td>\n",
       "      <td>32.0</td>\n",
       "      <td>3</td>\n",
       "      <td>0.00</td>\n",
       "      <td>1</td>\n",
       "      <td>1.0</td>\n",
       "      <td>1.0</td>\n",
       "      <td>158816.58</td>\n",
       "      <td>1</td>\n",
       "      <td>0</td>\n",
       "      <td>0</td>\n",
       "      <td>1</td>\n",
       "    </tr>\n",
       "    <tr>\n",
       "      <th>110022</th>\n",
       "      <td>621</td>\n",
       "      <td>37.0</td>\n",
       "      <td>7</td>\n",
       "      <td>87848.39</td>\n",
       "      <td>1</td>\n",
       "      <td>1.0</td>\n",
       "      <td>0.0</td>\n",
       "      <td>24210.56</td>\n",
       "      <td>1</td>\n",
       "      <td>0</td>\n",
       "      <td>0</td>\n",
       "      <td>1</td>\n",
       "    </tr>\n",
       "  </tbody>\n",
       "</table>\n",
       "<p>110023 rows × 12 columns</p>\n",
       "</div>"
      ],
      "text/plain": [
       "        CreditScore   Age  Tenure    Balance  NumOfProducts  HasCrCard  \\\n",
       "0               586  23.0       2       0.00              2        0.0   \n",
       "1               683  46.0       2       0.00              1        1.0   \n",
       "2               656  34.0       7       0.00              2        1.0   \n",
       "3               681  36.0       8       0.00              1        1.0   \n",
       "4               752  38.0      10  121263.62              1        1.0   \n",
       "...             ...   ...     ...        ...            ...        ...   \n",
       "110018          570  29.0       7  116099.82              1        1.0   \n",
       "110019          575  36.0       4  178032.53              1        1.0   \n",
       "110020          712  31.0       2       0.00              2        1.0   \n",
       "110021          709  32.0       3       0.00              1        1.0   \n",
       "110022          621  37.0       7   87848.39              1        1.0   \n",
       "\n",
       "        IsActiveMember  EstimatedSalary  France  Germany  Spain  Female  \n",
       "0                  1.0        160976.75       1        0      0       1  \n",
       "1                  0.0         72549.27       1        0      0       1  \n",
       "2                  0.0        138882.09       1        0      0       1  \n",
       "3                  0.0        113931.57       1        0      0       0  \n",
       "4                  0.0        139431.00       0        1      0       0  \n",
       "...                ...              ...     ...      ...    ...     ...  \n",
       "110018             1.0        148087.62       0        0      1       0  \n",
       "110019             1.0         42181.68       1        0      0       1  \n",
       "110020             0.0         16287.38       1        0      0       0  \n",
       "110021             1.0        158816.58       1        0      0       1  \n",
       "110022             0.0         24210.56       1        0      0       1  \n",
       "\n",
       "[110023 rows x 12 columns]"
      ]
     },
     "execution_count": 26,
     "metadata": {},
     "output_type": "execute_result"
    }
   ],
   "source": [
    "test_data3"
   ]
  },
  {
   "cell_type": "code",
   "execution_count": 27,
   "id": "b7785cd5",
   "metadata": {
    "execution": {
     "iopub.execute_input": "2024-01-27T17:07:45.714722Z",
     "iopub.status.busy": "2024-01-27T17:07:45.714044Z",
     "iopub.status.idle": "2024-01-27T17:07:45.725808Z",
     "shell.execute_reply": "2024-01-27T17:07:45.724792Z"
    },
    "papermill": {
     "duration": 0.029894,
     "end_time": "2024-01-27T17:07:45.727943",
     "exception": false,
     "start_time": "2024-01-27T17:07:45.698049",
     "status": "completed"
    },
    "tags": []
   },
   "outputs": [
    {
     "name": "stdout",
     "output_type": "stream",
     "text": [
      "<class 'pandas.core.frame.DataFrame'>\n",
      "RangeIndex: 110023 entries, 0 to 110022\n",
      "Data columns (total 12 columns):\n",
      " #   Column           Non-Null Count   Dtype  \n",
      "---  ------           --------------   -----  \n",
      " 0   CreditScore      110023 non-null  int64  \n",
      " 1   Age              110023 non-null  float64\n",
      " 2   Tenure           110023 non-null  int64  \n",
      " 3   Balance          110023 non-null  float64\n",
      " 4   NumOfProducts    110023 non-null  int64  \n",
      " 5   HasCrCard        110023 non-null  float64\n",
      " 6   IsActiveMember   110023 non-null  float64\n",
      " 7   EstimatedSalary  110023 non-null  float64\n",
      " 8   France           110023 non-null  int32  \n",
      " 9   Germany          110023 non-null  int32  \n",
      " 10  Spain            110023 non-null  int32  \n",
      " 11  Female           110023 non-null  int32  \n",
      "dtypes: float64(5), int32(4), int64(3)\n",
      "memory usage: 8.4 MB\n"
     ]
    }
   ],
   "source": [
    "test_data3.info()"
   ]
  },
  {
   "cell_type": "markdown",
   "id": "300f3083",
   "metadata": {
    "papermill": {
     "duration": 0.015099,
     "end_time": "2024-01-27T17:07:45.759674",
     "exception": false,
     "start_time": "2024-01-27T17:07:45.744575",
     "status": "completed"
    },
    "tags": []
   },
   "source": [
    "# EDA, Data Visualization and Correlation"
   ]
  },
  {
   "cell_type": "code",
   "execution_count": 28,
   "id": "5ea2e050",
   "metadata": {
    "execution": {
     "iopub.execute_input": "2024-01-27T17:07:45.790799Z",
     "iopub.status.busy": "2024-01-27T17:07:45.790499Z",
     "iopub.status.idle": "2024-01-27T17:07:45.871437Z",
     "shell.execute_reply": "2024-01-27T17:07:45.870188Z"
    },
    "papermill": {
     "duration": 0.099025,
     "end_time": "2024-01-27T17:07:45.873930",
     "exception": false,
     "start_time": "2024-01-27T17:07:45.774905",
     "status": "completed"
    },
    "tags": []
   },
   "outputs": [
    {
     "data": {
      "text/html": [
       "<div>\n",
       "<style scoped>\n",
       "    .dataframe tbody tr th:only-of-type {\n",
       "        vertical-align: middle;\n",
       "    }\n",
       "\n",
       "    .dataframe tbody tr th {\n",
       "        vertical-align: top;\n",
       "    }\n",
       "\n",
       "    .dataframe thead th {\n",
       "        text-align: right;\n",
       "    }\n",
       "</style>\n",
       "<table border=\"1\" class=\"dataframe\">\n",
       "  <thead>\n",
       "    <tr style=\"text-align: right;\">\n",
       "      <th></th>\n",
       "      <th>CreditScore</th>\n",
       "      <th>Age</th>\n",
       "      <th>Tenure</th>\n",
       "      <th>Balance</th>\n",
       "      <th>NumOfProducts</th>\n",
       "      <th>HasCrCard</th>\n",
       "      <th>IsActiveMember</th>\n",
       "      <th>EstimatedSalary</th>\n",
       "      <th>Exited</th>\n",
       "      <th>France</th>\n",
       "      <th>Germany</th>\n",
       "      <th>Spain</th>\n",
       "      <th>Female</th>\n",
       "    </tr>\n",
       "  </thead>\n",
       "  <tbody>\n",
       "    <tr>\n",
       "      <th>CreditScore</th>\n",
       "      <td>1.000000</td>\n",
       "      <td>-0.008918</td>\n",
       "      <td>0.000942</td>\n",
       "      <td>0.006973</td>\n",
       "      <td>0.011361</td>\n",
       "      <td>-0.002828</td>\n",
       "      <td>0.014790</td>\n",
       "      <td>-0.001820</td>\n",
       "      <td>-0.027383</td>\n",
       "      <td>-0.005669</td>\n",
       "      <td>0.002996</td>\n",
       "      <td>0.003833</td>\n",
       "      <td>-0.002310</td>\n",
       "    </tr>\n",
       "    <tr>\n",
       "      <th>Age</th>\n",
       "      <td>-0.008918</td>\n",
       "      <td>1.000000</td>\n",
       "      <td>-0.010830</td>\n",
       "      <td>0.064318</td>\n",
       "      <td>-0.102195</td>\n",
       "      <td>-0.012111</td>\n",
       "      <td>0.003320</td>\n",
       "      <td>-0.005399</td>\n",
       "      <td>0.340768</td>\n",
       "      <td>-0.066439</td>\n",
       "      <td>0.093138</td>\n",
       "      <td>-0.012157</td>\n",
       "      <td>0.063139</td>\n",
       "    </tr>\n",
       "    <tr>\n",
       "      <th>Tenure</th>\n",
       "      <td>0.000942</td>\n",
       "      <td>-0.010830</td>\n",
       "      <td>1.000000</td>\n",
       "      <td>-0.009481</td>\n",
       "      <td>0.007335</td>\n",
       "      <td>0.005327</td>\n",
       "      <td>-0.005532</td>\n",
       "      <td>0.000971</td>\n",
       "      <td>-0.019565</td>\n",
       "      <td>0.002960</td>\n",
       "      <td>-0.007751</td>\n",
       "      <td>0.004085</td>\n",
       "      <td>-0.008767</td>\n",
       "    </tr>\n",
       "    <tr>\n",
       "      <th>Balance</th>\n",
       "      <td>0.006973</td>\n",
       "      <td>0.064318</td>\n",
       "      <td>-0.009481</td>\n",
       "      <td>1.000000</td>\n",
       "      <td>-0.361033</td>\n",
       "      <td>-0.018584</td>\n",
       "      <td>-0.015073</td>\n",
       "      <td>0.008586</td>\n",
       "      <td>0.129743</td>\n",
       "      <td>-0.332811</td>\n",
       "      <td>0.539208</td>\n",
       "      <td>-0.132364</td>\n",
       "      <td>0.014699</td>\n",
       "    </tr>\n",
       "    <tr>\n",
       "      <th>NumOfProducts</th>\n",
       "      <td>0.011361</td>\n",
       "      <td>-0.102195</td>\n",
       "      <td>0.007335</td>\n",
       "      <td>-0.361033</td>\n",
       "      <td>1.000000</td>\n",
       "      <td>0.005482</td>\n",
       "      <td>0.039736</td>\n",
       "      <td>-0.004285</td>\n",
       "      <td>-0.214554</td>\n",
       "      <td>0.063096</td>\n",
       "      <td>-0.103034</td>\n",
       "      <td>0.025889</td>\n",
       "      <td>-0.026098</td>\n",
       "    </tr>\n",
       "    <tr>\n",
       "      <th>HasCrCard</th>\n",
       "      <td>-0.002828</td>\n",
       "      <td>-0.012111</td>\n",
       "      <td>0.005327</td>\n",
       "      <td>-0.018584</td>\n",
       "      <td>0.005482</td>\n",
       "      <td>1.000000</td>\n",
       "      <td>-0.021034</td>\n",
       "      <td>0.004438</td>\n",
       "      <td>-0.022141</td>\n",
       "      <td>0.015839</td>\n",
       "      <td>-0.004988</td>\n",
       "      <td>-0.014037</td>\n",
       "      <td>-0.006418</td>\n",
       "    </tr>\n",
       "    <tr>\n",
       "      <th>IsActiveMember</th>\n",
       "      <td>0.014790</td>\n",
       "      <td>0.003320</td>\n",
       "      <td>-0.005532</td>\n",
       "      <td>-0.015073</td>\n",
       "      <td>0.039736</td>\n",
       "      <td>-0.021034</td>\n",
       "      <td>1.000000</td>\n",
       "      <td>-0.008080</td>\n",
       "      <td>-0.210237</td>\n",
       "      <td>0.017864</td>\n",
       "      <td>-0.036433</td>\n",
       "      <td>0.014473</td>\n",
       "      <td>-0.033722</td>\n",
       "    </tr>\n",
       "    <tr>\n",
       "      <th>EstimatedSalary</th>\n",
       "      <td>-0.001820</td>\n",
       "      <td>-0.005399</td>\n",
       "      <td>0.000971</td>\n",
       "      <td>0.008586</td>\n",
       "      <td>-0.004285</td>\n",
       "      <td>0.004438</td>\n",
       "      <td>-0.008080</td>\n",
       "      <td>1.000000</td>\n",
       "      <td>0.018827</td>\n",
       "      <td>-0.002085</td>\n",
       "      <td>0.013298</td>\n",
       "      <td>-0.010587</td>\n",
       "      <td>0.007778</td>\n",
       "    </tr>\n",
       "    <tr>\n",
       "      <th>Exited</th>\n",
       "      <td>-0.027383</td>\n",
       "      <td>0.340768</td>\n",
       "      <td>-0.019565</td>\n",
       "      <td>0.129743</td>\n",
       "      <td>-0.214554</td>\n",
       "      <td>-0.022141</td>\n",
       "      <td>-0.210237</td>\n",
       "      <td>0.018827</td>\n",
       "      <td>1.000000</td>\n",
       "      <td>-0.130797</td>\n",
       "      <td>0.211054</td>\n",
       "      <td>-0.051175</td>\n",
       "      <td>0.146442</td>\n",
       "    </tr>\n",
       "    <tr>\n",
       "      <th>France</th>\n",
       "      <td>-0.005669</td>\n",
       "      <td>-0.066439</td>\n",
       "      <td>0.002960</td>\n",
       "      <td>-0.332811</td>\n",
       "      <td>0.063096</td>\n",
       "      <td>0.015839</td>\n",
       "      <td>0.017864</td>\n",
       "      <td>-0.002085</td>\n",
       "      <td>-0.130797</td>\n",
       "      <td>1.000000</td>\n",
       "      <td>-0.594122</td>\n",
       "      <td>-0.611539</td>\n",
       "      <td>-0.026204</td>\n",
       "    </tr>\n",
       "    <tr>\n",
       "      <th>Germany</th>\n",
       "      <td>0.002996</td>\n",
       "      <td>0.093138</td>\n",
       "      <td>-0.007751</td>\n",
       "      <td>0.539208</td>\n",
       "      <td>-0.103034</td>\n",
       "      <td>-0.004988</td>\n",
       "      <td>-0.036433</td>\n",
       "      <td>0.013298</td>\n",
       "      <td>0.211054</td>\n",
       "      <td>-0.594122</td>\n",
       "      <td>1.000000</td>\n",
       "      <td>-0.273105</td>\n",
       "      <td>0.039465</td>\n",
       "    </tr>\n",
       "    <tr>\n",
       "      <th>Spain</th>\n",
       "      <td>0.003833</td>\n",
       "      <td>-0.012157</td>\n",
       "      <td>0.004085</td>\n",
       "      <td>-0.132364</td>\n",
       "      <td>0.025889</td>\n",
       "      <td>-0.014037</td>\n",
       "      <td>0.014473</td>\n",
       "      <td>-0.010587</td>\n",
       "      <td>-0.051175</td>\n",
       "      <td>-0.611539</td>\n",
       "      <td>-0.273105</td>\n",
       "      <td>1.000000</td>\n",
       "      <td>-0.007480</td>\n",
       "    </tr>\n",
       "    <tr>\n",
       "      <th>Female</th>\n",
       "      <td>-0.002310</td>\n",
       "      <td>0.063139</td>\n",
       "      <td>-0.008767</td>\n",
       "      <td>0.014699</td>\n",
       "      <td>-0.026098</td>\n",
       "      <td>-0.006418</td>\n",
       "      <td>-0.033722</td>\n",
       "      <td>0.007778</td>\n",
       "      <td>0.146442</td>\n",
       "      <td>-0.026204</td>\n",
       "      <td>0.039465</td>\n",
       "      <td>-0.007480</td>\n",
       "      <td>1.000000</td>\n",
       "    </tr>\n",
       "  </tbody>\n",
       "</table>\n",
       "</div>"
      ],
      "text/plain": [
       "                 CreditScore       Age    Tenure   Balance  NumOfProducts  \\\n",
       "CreditScore         1.000000 -0.008918  0.000942  0.006973       0.011361   \n",
       "Age                -0.008918  1.000000 -0.010830  0.064318      -0.102195   \n",
       "Tenure              0.000942 -0.010830  1.000000 -0.009481       0.007335   \n",
       "Balance             0.006973  0.064318 -0.009481  1.000000      -0.361033   \n",
       "NumOfProducts       0.011361 -0.102195  0.007335 -0.361033       1.000000   \n",
       "HasCrCard          -0.002828 -0.012111  0.005327 -0.018584       0.005482   \n",
       "IsActiveMember      0.014790  0.003320 -0.005532 -0.015073       0.039736   \n",
       "EstimatedSalary    -0.001820 -0.005399  0.000971  0.008586      -0.004285   \n",
       "Exited             -0.027383  0.340768 -0.019565  0.129743      -0.214554   \n",
       "France             -0.005669 -0.066439  0.002960 -0.332811       0.063096   \n",
       "Germany             0.002996  0.093138 -0.007751  0.539208      -0.103034   \n",
       "Spain               0.003833 -0.012157  0.004085 -0.132364       0.025889   \n",
       "Female             -0.002310  0.063139 -0.008767  0.014699      -0.026098   \n",
       "\n",
       "                 HasCrCard  IsActiveMember  EstimatedSalary    Exited  \\\n",
       "CreditScore      -0.002828        0.014790        -0.001820 -0.027383   \n",
       "Age              -0.012111        0.003320        -0.005399  0.340768   \n",
       "Tenure            0.005327       -0.005532         0.000971 -0.019565   \n",
       "Balance          -0.018584       -0.015073         0.008586  0.129743   \n",
       "NumOfProducts     0.005482        0.039736        -0.004285 -0.214554   \n",
       "HasCrCard         1.000000       -0.021034         0.004438 -0.022141   \n",
       "IsActiveMember   -0.021034        1.000000        -0.008080 -0.210237   \n",
       "EstimatedSalary   0.004438       -0.008080         1.000000  0.018827   \n",
       "Exited           -0.022141       -0.210237         0.018827  1.000000   \n",
       "France            0.015839        0.017864        -0.002085 -0.130797   \n",
       "Germany          -0.004988       -0.036433         0.013298  0.211054   \n",
       "Spain            -0.014037        0.014473        -0.010587 -0.051175   \n",
       "Female           -0.006418       -0.033722         0.007778  0.146442   \n",
       "\n",
       "                   France   Germany     Spain    Female  \n",
       "CreditScore     -0.005669  0.002996  0.003833 -0.002310  \n",
       "Age             -0.066439  0.093138 -0.012157  0.063139  \n",
       "Tenure           0.002960 -0.007751  0.004085 -0.008767  \n",
       "Balance         -0.332811  0.539208 -0.132364  0.014699  \n",
       "NumOfProducts    0.063096 -0.103034  0.025889 -0.026098  \n",
       "HasCrCard        0.015839 -0.004988 -0.014037 -0.006418  \n",
       "IsActiveMember   0.017864 -0.036433  0.014473 -0.033722  \n",
       "EstimatedSalary -0.002085  0.013298 -0.010587  0.007778  \n",
       "Exited          -0.130797  0.211054 -0.051175  0.146442  \n",
       "France           1.000000 -0.594122 -0.611539 -0.026204  \n",
       "Germany         -0.594122  1.000000 -0.273105  0.039465  \n",
       "Spain           -0.611539 -0.273105  1.000000 -0.007480  \n",
       "Female          -0.026204  0.039465 -0.007480  1.000000  "
      ]
     },
     "execution_count": 28,
     "metadata": {},
     "output_type": "execute_result"
    }
   ],
   "source": [
    "train_data3.corr()"
   ]
  },
  {
   "cell_type": "code",
   "execution_count": 29,
   "id": "a63bae52",
   "metadata": {
    "execution": {
     "iopub.execute_input": "2024-01-27T17:07:45.907076Z",
     "iopub.status.busy": "2024-01-27T17:07:45.906722Z",
     "iopub.status.idle": "2024-01-27T17:07:46.733458Z",
     "shell.execute_reply": "2024-01-27T17:07:46.732652Z"
    },
    "papermill": {
     "duration": 0.845697,
     "end_time": "2024-01-27T17:07:46.735823",
     "exception": false,
     "start_time": "2024-01-27T17:07:45.890126",
     "status": "completed"
    },
    "tags": []
   },
   "outputs": [
    {
     "data": {
      "text/plain": [
       "<Axes: >"
      ]
     },
     "execution_count": 29,
     "metadata": {},
     "output_type": "execute_result"
    },
    {
     "data": {
      "image/png": "[encoded data removed]",
      "text/plain": [
       "<Figure size 1200x800 with 2 Axes>"
      ]
     },
     "metadata": {},
     "output_type": "display_data"
    }
   ],
   "source": [
    "plt.figure(figsize=(12, 8))\n",
    "sns.heatmap(data=train_data3.corr(), annot = True)"
   ]
  },
  {
   "cell_type": "markdown",
   "id": "b20a076e",
   "metadata": {
    "papermill": {
     "duration": 0.016769,
     "end_time": "2024-01-27T17:07:46.770210",
     "exception": false,
     "start_time": "2024-01-27T17:07:46.753441",
     "status": "completed"
    },
    "tags": []
   },
   "source": [
    "### From the above heatmap we can see that the 'Age' feature has the most postive correlation with the target feature\n",
    "### i.e.'Exited' compared to others which menas that people with more age are most likely to exit the bank."
   ]
  },
  {
   "cell_type": "markdown",
   "id": "ea6d0843",
   "metadata": {
    "papermill": {
     "duration": 0.017416,
     "end_time": "2024-01-27T17:07:46.806286",
     "exception": false,
     "start_time": "2024-01-27T17:07:46.788870",
     "status": "completed"
    },
    "tags": []
   },
   "source": [
    "### Also we can see a strong negative correlation between the 'NumberOfProducts' and 'Isactivemember' features with the 'Exited'\n",
    "### feature, which tells us that when a person is more active the probability of them exiting is low, also when a client has \n",
    "### more products in the bank, they are less probable to exit."
   ]
  },
  {
   "cell_type": "code",
   "execution_count": 30,
   "id": "f216d62d",
   "metadata": {
    "execution": {
     "iopub.execute_input": "2024-01-27T17:07:46.842113Z",
     "iopub.status.busy": "2024-01-27T17:07:46.841490Z",
     "iopub.status.idle": "2024-01-27T17:07:47.100580Z",
     "shell.execute_reply": "2024-01-27T17:07:47.099780Z"
    },
    "papermill": {
     "duration": 0.279459,
     "end_time": "2024-01-27T17:07:47.102816",
     "exception": false,
     "start_time": "2024-01-27T17:07:46.823357",
     "status": "completed"
    },
    "tags": []
   },
   "outputs": [
    {
     "data": {
      "text/plain": [
       "array([[<Axes: title={'center': 'Age'}>]], dtype=object)"
      ]
     },
     "execution_count": 30,
     "metadata": {},
     "output_type": "execute_result"
    },
    {
     "data": {
      "image/png": "[encoded data removed]",
      "text/plain": [
       "<Figure size 640x480 with 1 Axes>"
      ]
     },
     "metadata": {},
     "output_type": "display_data"
    }
   ],
   "source": [
    "train_data3.hist(\"Age\")"
   ]
  },
  {
   "cell_type": "code",
   "execution_count": 31,
   "id": "f818d72d",
   "metadata": {
    "execution": {
     "iopub.execute_input": "2024-01-27T17:07:47.141704Z",
     "iopub.status.busy": "2024-01-27T17:07:47.140745Z",
     "iopub.status.idle": "2024-01-27T17:07:47.352713Z",
     "shell.execute_reply": "2024-01-27T17:07:47.351553Z"
    },
    "papermill": {
     "duration": 0.23417,
     "end_time": "2024-01-27T17:07:47.355245",
     "exception": false,
     "start_time": "2024-01-27T17:07:47.121075",
     "status": "completed"
    },
    "tags": []
   },
   "outputs": [
    {
     "data": {
      "text/plain": [
       "<Axes: xlabel='Exited', ylabel='Age'>"
      ]
     },
     "execution_count": 31,
     "metadata": {},
     "output_type": "execute_result"
    },
    {
     "data": {
      "image/png": "[encoded data removed]",
      "text/plain": [
       "<Figure size 640x480 with 1 Axes>"
      ]
     },
     "metadata": {},
     "output_type": "display_data"
    }
   ],
   "source": [
    "sns.boxplot(x='Exited', y='Age', data=train_data3)"
   ]
  },
  {
   "cell_type": "code",
   "execution_count": 32,
   "id": "dd8bdc67",
   "metadata": {
    "execution": {
     "iopub.execute_input": "2024-01-27T17:07:47.394163Z",
     "iopub.status.busy": "2024-01-27T17:07:47.393786Z",
     "iopub.status.idle": "2024-01-27T17:07:48.062268Z",
     "shell.execute_reply": "2024-01-27T17:07:48.061248Z"
    },
    "papermill": {
     "duration": 0.689911,
     "end_time": "2024-01-27T17:07:48.064742",
     "exception": false,
     "start_time": "2024-01-27T17:07:47.374831",
     "status": "completed"
    },
    "tags": []
   },
   "outputs": [
    {
     "data": {
      "text/plain": [
       "<Axes: xlabel='Exited', ylabel='Age'>"
      ]
     },
     "execution_count": 32,
     "metadata": {},
     "output_type": "execute_result"
    },
    {
     "data": {
      "image/png": "[encoded data removed]",
      "text/plain": [
       "<Figure size 640x480 with 1 Axes>"
      ]
     },
     "metadata": {},
     "output_type": "display_data"
    }
   ],
   "source": [
    "sns.violinplot(x='Exited', y='Age', data=train_data3)"
   ]
  },
  {
   "cell_type": "markdown",
   "id": "e8f11370",
   "metadata": {
    "papermill": {
     "duration": 0.018364,
     "end_time": "2024-01-27T17:07:48.101682",
     "exception": false,
     "start_time": "2024-01-27T17:07:48.083318",
     "status": "completed"
    },
    "tags": []
   },
   "source": [
    "## Removing the duplicated values"
   ]
  },
  {
   "cell_type": "code",
   "execution_count": 33,
   "id": "81e24ea1",
   "metadata": {
    "execution": {
     "iopub.execute_input": "2024-01-27T17:07:48.141720Z",
     "iopub.status.busy": "2024-01-27T17:07:48.140560Z",
     "iopub.status.idle": "2024-01-27T17:07:48.182845Z",
     "shell.execute_reply": "2024-01-27T17:07:48.181957Z"
    },
    "papermill": {
     "duration": 0.064479,
     "end_time": "2024-01-27T17:07:48.185425",
     "exception": false,
     "start_time": "2024-01-27T17:07:48.120946",
     "status": "completed"
    },
    "tags": []
   },
   "outputs": [
    {
     "name": "stdout",
     "output_type": "stream",
     "text": [
      "123\n"
     ]
    }
   ],
   "source": [
    "print(train_data3.duplicated().sum())"
   ]
  },
  {
   "cell_type": "code",
   "execution_count": 34,
   "id": "c48186a3",
   "metadata": {
    "execution": {
     "iopub.execute_input": "2024-01-27T17:07:48.223617Z",
     "iopub.status.busy": "2024-01-27T17:07:48.223198Z",
     "iopub.status.idle": "2024-01-27T17:07:48.263963Z",
     "shell.execute_reply": "2024-01-27T17:07:48.262547Z"
    },
    "papermill": {
     "duration": 0.062834,
     "end_time": "2024-01-27T17:07:48.266547",
     "exception": false,
     "start_time": "2024-01-27T17:07:48.203713",
     "status": "completed"
    },
    "tags": []
   },
   "outputs": [],
   "source": [
    "train_data3 = train_data3.drop_duplicates()"
   ]
  },
  {
   "cell_type": "code",
   "execution_count": 35,
   "id": "e5253e7f",
   "metadata": {
    "execution": {
     "iopub.execute_input": "2024-01-27T17:07:48.305005Z",
     "iopub.status.busy": "2024-01-27T17:07:48.304669Z",
     "iopub.status.idle": "2024-01-27T17:07:48.351365Z",
     "shell.execute_reply": "2024-01-27T17:07:48.350166Z"
    },
    "papermill": {
     "duration": 0.068197,
     "end_time": "2024-01-27T17:07:48.353301",
     "exception": false,
     "start_time": "2024-01-27T17:07:48.285104",
     "status": "completed"
    },
    "tags": []
   },
   "outputs": [
    {
     "name": "stdout",
     "output_type": "stream",
     "text": [
      "0\n"
     ]
    }
   ],
   "source": [
    "print(train_data3.duplicated().sum())"
   ]
  },
  {
   "cell_type": "code",
   "execution_count": 36,
   "id": "687f06ed",
   "metadata": {
    "execution": {
     "iopub.execute_input": "2024-01-27T17:07:48.393572Z",
     "iopub.status.busy": "2024-01-27T17:07:48.392954Z",
     "iopub.status.idle": "2024-01-27T17:07:48.413399Z",
     "shell.execute_reply": "2024-01-27T17:07:48.411964Z"
    },
    "papermill": {
     "duration": 0.045005,
     "end_time": "2024-01-27T17:07:48.415813",
     "exception": false,
     "start_time": "2024-01-27T17:07:48.370808",
     "status": "completed"
    },
    "tags": []
   },
   "outputs": [
    {
     "data": {
      "text/html": [
       "<div>\n",
       "<style scoped>\n",
       "    .dataframe tbody tr th:only-of-type {\n",
       "        vertical-align: middle;\n",
       "    }\n",
       "\n",
       "    .dataframe tbody tr th {\n",
       "        vertical-align: top;\n",
       "    }\n",
       "\n",
       "    .dataframe thead th {\n",
       "        text-align: right;\n",
       "    }\n",
       "</style>\n",
       "<table border=\"1\" class=\"dataframe\">\n",
       "  <thead>\n",
       "    <tr style=\"text-align: right;\">\n",
       "      <th></th>\n",
       "      <th>CreditScore</th>\n",
       "      <th>Age</th>\n",
       "      <th>Tenure</th>\n",
       "      <th>Balance</th>\n",
       "      <th>NumOfProducts</th>\n",
       "      <th>HasCrCard</th>\n",
       "      <th>IsActiveMember</th>\n",
       "      <th>EstimatedSalary</th>\n",
       "      <th>Exited</th>\n",
       "      <th>France</th>\n",
       "      <th>Germany</th>\n",
       "      <th>Spain</th>\n",
       "      <th>Female</th>\n",
       "    </tr>\n",
       "  </thead>\n",
       "  <tbody>\n",
       "    <tr>\n",
       "      <th>0</th>\n",
       "      <td>668</td>\n",
       "      <td>33.0</td>\n",
       "      <td>3</td>\n",
       "      <td>0.00</td>\n",
       "      <td>2</td>\n",
       "      <td>1.0</td>\n",
       "      <td>0.0</td>\n",
       "      <td>181449.97</td>\n",
       "      <td>0</td>\n",
       "      <td>1</td>\n",
       "      <td>0</td>\n",
       "      <td>0</td>\n",
       "      <td>0</td>\n",
       "    </tr>\n",
       "    <tr>\n",
       "      <th>1</th>\n",
       "      <td>627</td>\n",
       "      <td>33.0</td>\n",
       "      <td>1</td>\n",
       "      <td>0.00</td>\n",
       "      <td>2</td>\n",
       "      <td>1.0</td>\n",
       "      <td>1.0</td>\n",
       "      <td>49503.50</td>\n",
       "      <td>0</td>\n",
       "      <td>1</td>\n",
       "      <td>0</td>\n",
       "      <td>0</td>\n",
       "      <td>0</td>\n",
       "    </tr>\n",
       "    <tr>\n",
       "      <th>2</th>\n",
       "      <td>678</td>\n",
       "      <td>40.0</td>\n",
       "      <td>10</td>\n",
       "      <td>0.00</td>\n",
       "      <td>2</td>\n",
       "      <td>1.0</td>\n",
       "      <td>0.0</td>\n",
       "      <td>184866.69</td>\n",
       "      <td>0</td>\n",
       "      <td>1</td>\n",
       "      <td>0</td>\n",
       "      <td>0</td>\n",
       "      <td>0</td>\n",
       "    </tr>\n",
       "    <tr>\n",
       "      <th>3</th>\n",
       "      <td>581</td>\n",
       "      <td>34.0</td>\n",
       "      <td>2</td>\n",
       "      <td>148882.54</td>\n",
       "      <td>1</td>\n",
       "      <td>1.0</td>\n",
       "      <td>1.0</td>\n",
       "      <td>84560.88</td>\n",
       "      <td>0</td>\n",
       "      <td>1</td>\n",
       "      <td>0</td>\n",
       "      <td>0</td>\n",
       "      <td>0</td>\n",
       "    </tr>\n",
       "    <tr>\n",
       "      <th>4</th>\n",
       "      <td>716</td>\n",
       "      <td>33.0</td>\n",
       "      <td>5</td>\n",
       "      <td>0.00</td>\n",
       "      <td>2</td>\n",
       "      <td>1.0</td>\n",
       "      <td>1.0</td>\n",
       "      <td>15068.83</td>\n",
       "      <td>0</td>\n",
       "      <td>0</td>\n",
       "      <td>0</td>\n",
       "      <td>1</td>\n",
       "      <td>0</td>\n",
       "    </tr>\n",
       "    <tr>\n",
       "      <th>...</th>\n",
       "      <td>...</td>\n",
       "      <td>...</td>\n",
       "      <td>...</td>\n",
       "      <td>...</td>\n",
       "      <td>...</td>\n",
       "      <td>...</td>\n",
       "      <td>...</td>\n",
       "      <td>...</td>\n",
       "      <td>...</td>\n",
       "      <td>...</td>\n",
       "      <td>...</td>\n",
       "      <td>...</td>\n",
       "      <td>...</td>\n",
       "    </tr>\n",
       "    <tr>\n",
       "      <th>165029</th>\n",
       "      <td>667</td>\n",
       "      <td>33.0</td>\n",
       "      <td>2</td>\n",
       "      <td>0.00</td>\n",
       "      <td>1</td>\n",
       "      <td>1.0</td>\n",
       "      <td>1.0</td>\n",
       "      <td>131834.75</td>\n",
       "      <td>0</td>\n",
       "      <td>0</td>\n",
       "      <td>0</td>\n",
       "      <td>1</td>\n",
       "      <td>1</td>\n",
       "    </tr>\n",
       "    <tr>\n",
       "      <th>165030</th>\n",
       "      <td>792</td>\n",
       "      <td>35.0</td>\n",
       "      <td>3</td>\n",
       "      <td>0.00</td>\n",
       "      <td>1</td>\n",
       "      <td>0.0</td>\n",
       "      <td>0.0</td>\n",
       "      <td>131834.45</td>\n",
       "      <td>0</td>\n",
       "      <td>1</td>\n",
       "      <td>0</td>\n",
       "      <td>0</td>\n",
       "      <td>0</td>\n",
       "    </tr>\n",
       "    <tr>\n",
       "      <th>165031</th>\n",
       "      <td>565</td>\n",
       "      <td>31.0</td>\n",
       "      <td>5</td>\n",
       "      <td>0.00</td>\n",
       "      <td>1</td>\n",
       "      <td>1.0</td>\n",
       "      <td>1.0</td>\n",
       "      <td>127429.56</td>\n",
       "      <td>0</td>\n",
       "      <td>1</td>\n",
       "      <td>0</td>\n",
       "      <td>0</td>\n",
       "      <td>0</td>\n",
       "    </tr>\n",
       "    <tr>\n",
       "      <th>165032</th>\n",
       "      <td>554</td>\n",
       "      <td>30.0</td>\n",
       "      <td>7</td>\n",
       "      <td>161533.00</td>\n",
       "      <td>1</td>\n",
       "      <td>0.0</td>\n",
       "      <td>1.0</td>\n",
       "      <td>71173.03</td>\n",
       "      <td>0</td>\n",
       "      <td>0</td>\n",
       "      <td>0</td>\n",
       "      <td>1</td>\n",
       "      <td>1</td>\n",
       "    </tr>\n",
       "    <tr>\n",
       "      <th>165033</th>\n",
       "      <td>850</td>\n",
       "      <td>31.0</td>\n",
       "      <td>1</td>\n",
       "      <td>0.00</td>\n",
       "      <td>1</td>\n",
       "      <td>1.0</td>\n",
       "      <td>0.0</td>\n",
       "      <td>61581.79</td>\n",
       "      <td>1</td>\n",
       "      <td>1</td>\n",
       "      <td>0</td>\n",
       "      <td>0</td>\n",
       "      <td>0</td>\n",
       "    </tr>\n",
       "  </tbody>\n",
       "</table>\n",
       "<p>164911 rows × 13 columns</p>\n",
       "</div>"
      ],
      "text/plain": [
       "        CreditScore   Age  Tenure    Balance  NumOfProducts  HasCrCard  \\\n",
       "0               668  33.0       3       0.00              2        1.0   \n",
       "1               627  33.0       1       0.00              2        1.0   \n",
       "2               678  40.0      10       0.00              2        1.0   \n",
       "3               581  34.0       2  148882.54              1        1.0   \n",
       "4               716  33.0       5       0.00              2        1.0   \n",
       "...             ...   ...     ...        ...            ...        ...   \n",
       "165029          667  33.0       2       0.00              1        1.0   \n",
       "165030          792  35.0       3       0.00              1        0.0   \n",
       "165031          565  31.0       5       0.00              1        1.0   \n",
       "165032          554  30.0       7  161533.00              1        0.0   \n",
       "165033          850  31.0       1       0.00              1        1.0   \n",
       "\n",
       "        IsActiveMember  EstimatedSalary  Exited  France  Germany  Spain  \\\n",
       "0                  0.0        181449.97       0       1        0      0   \n",
       "1                  1.0         49503.50       0       1        0      0   \n",
       "2                  0.0        184866.69       0       1        0      0   \n",
       "3                  1.0         84560.88       0       1        0      0   \n",
       "4                  1.0         15068.83       0       0        0      1   \n",
       "...                ...              ...     ...     ...      ...    ...   \n",
       "165029             1.0        131834.75       0       0        0      1   \n",
       "165030             0.0        131834.45       0       1        0      0   \n",
       "165031             1.0        127429.56       0       1        0      0   \n",
       "165032             1.0         71173.03       0       0        0      1   \n",
       "165033             0.0         61581.79       1       1        0      0   \n",
       "\n",
       "        Female  \n",
       "0            0  \n",
       "1            0  \n",
       "2            0  \n",
       "3            0  \n",
       "4            0  \n",
       "...        ...  \n",
       "165029       1  \n",
       "165030       0  \n",
       "165031       0  \n",
       "165032       1  \n",
       "165033       0  \n",
       "\n",
       "[164911 rows x 13 columns]"
      ]
     },
     "execution_count": 36,
     "metadata": {},
     "output_type": "execute_result"
    }
   ],
   "source": [
    "train_data3"
   ]
  },
  {
   "cell_type": "markdown",
   "id": "d19b531d",
   "metadata": {
    "papermill": {
     "duration": 0.018624,
     "end_time": "2024-01-27T17:07:48.453923",
     "exception": false,
     "start_time": "2024-01-27T17:07:48.435299",
     "status": "completed"
    },
    "tags": []
   },
   "source": [
    "# Modelling"
   ]
  },
  {
   "cell_type": "code",
   "execution_count": 37,
   "id": "c3c6072c",
   "metadata": {
    "execution": {
     "iopub.execute_input": "2024-01-27T17:07:48.493306Z",
     "iopub.status.busy": "2024-01-27T17:07:48.491997Z",
     "iopub.status.idle": "2024-01-27T17:07:48.506458Z",
     "shell.execute_reply": "2024-01-27T17:07:48.505401Z"
    },
    "papermill": {
     "duration": 0.036208,
     "end_time": "2024-01-27T17:07:48.508484",
     "exception": false,
     "start_time": "2024-01-27T17:07:48.472276",
     "status": "completed"
    },
    "tags": []
   },
   "outputs": [
    {
     "name": "stdout",
     "output_type": "stream",
     "text": [
      "(164911, 12)\n",
      "(164911,)\n"
     ]
    }
   ],
   "source": [
    "X1 = train_data3.iloc[:,0:8]\n",
    "X2 = train_data3.iloc[:,9:]\n",
    "X = pd.concat([X1, X2], axis=1)\n",
    "y = train_data3[\"Exited\"]\n",
    "print(X.shape)\n",
    "print(y.shape)"
   ]
  },
  {
   "cell_type": "markdown",
   "id": "0dbad64d",
   "metadata": {
    "papermill": {
     "duration": 0.018023,
     "end_time": "2024-01-27T17:07:48.544923",
     "exception": false,
     "start_time": "2024-01-27T17:07:48.526900",
     "status": "completed"
    },
    "tags": []
   },
   "source": [
    "## First we split the main training dataset into training and validation datasets using train-test-split(80-20)"
   ]
  },
  {
   "cell_type": "code",
   "execution_count": 38,
   "id": "938614cf",
   "metadata": {
    "execution": {
     "iopub.execute_input": "2024-01-27T17:07:48.582993Z",
     "iopub.status.busy": "2024-01-27T17:07:48.582066Z",
     "iopub.status.idle": "2024-01-27T17:07:48.888448Z",
     "shell.execute_reply": "2024-01-27T17:07:48.886605Z"
    },
    "papermill": {
     "duration": 0.327907,
     "end_time": "2024-01-27T17:07:48.890876",
     "exception": false,
     "start_time": "2024-01-27T17:07:48.562969",
     "status": "completed"
    },
    "tags": []
   },
   "outputs": [],
   "source": [
    "from sklearn.model_selection import train_test_split"
   ]
  },
  {
   "cell_type": "code",
   "execution_count": 39,
   "id": "b5a5a810",
   "metadata": {
    "execution": {
     "iopub.execute_input": "2024-01-27T17:07:48.929265Z",
     "iopub.status.busy": "2024-01-27T17:07:48.928951Z",
     "iopub.status.idle": "2024-01-27T17:07:48.967680Z",
     "shell.execute_reply": "2024-01-27T17:07:48.966253Z"
    },
    "papermill": {
     "duration": 0.060381,
     "end_time": "2024-01-27T17:07:48.970082",
     "exception": false,
     "start_time": "2024-01-27T17:07:48.909701",
     "status": "completed"
    },
    "tags": []
   },
   "outputs": [],
   "source": [
    "X_train, X_valid, y_train, y_valid = train_test_split(X, y, test_size = 0.2)"
   ]
  },
  {
   "cell_type": "markdown",
   "id": "ef1e011f",
   "metadata": {
    "papermill": {
     "duration": 0.01786,
     "end_time": "2024-01-27T17:07:49.006617",
     "exception": false,
     "start_time": "2024-01-27T17:07:48.988757",
     "status": "completed"
    },
    "tags": []
   },
   "source": [
    "## Here we are using a XGBClassifier model, we use GridSearchCV to find the best parameters"
   ]
  },
  {
   "cell_type": "markdown",
   "id": "7f49dd01",
   "metadata": {
    "papermill": {
     "duration": 0.023576,
     "end_time": "2024-01-27T17:07:49.049227",
     "exception": false,
     "start_time": "2024-01-27T17:07:49.025651",
     "status": "completed"
    },
    "tags": []
   },
   "source": [
    "### n_estimators: The number of boosting rounds or trees to build. It represents the number of sequential trees added to the model.\n",
    "\n",
    "### learning_rate: Also known as the step size or shrinkage, it controls the contribution of each tree to the final prediction. Lower values require more trees but can lead to better generalization.\n",
    "\n",
    "### max_depth: The maximum depth of each tree. It controls the maximum number of nodes in each tree, influencing the complexity of the model."
   ]
  },
  {
   "cell_type": "code",
   "execution_count": 40,
   "id": "948ddaa7",
   "metadata": {
    "execution": {
     "iopub.execute_input": "2024-01-27T17:07:49.087695Z",
     "iopub.status.busy": "2024-01-27T17:07:49.087365Z",
     "iopub.status.idle": "2024-01-27T17:07:49.288144Z",
     "shell.execute_reply": "2024-01-27T17:07:49.286773Z"
    },
    "papermill": {
     "duration": 0.222636,
     "end_time": "2024-01-27T17:07:49.290585",
     "exception": false,
     "start_time": "2024-01-27T17:07:49.067949",
     "status": "completed"
    },
    "tags": []
   },
   "outputs": [],
   "source": [
    "from xgboost import XGBClassifier\n",
    "from sklearn.model_selection import GridSearchCV"
   ]
  },
  {
   "cell_type": "code",
   "execution_count": 41,
   "id": "9b1bbfae",
   "metadata": {
    "execution": {
     "iopub.execute_input": "2024-01-27T17:07:49.332757Z",
     "iopub.status.busy": "2024-01-27T17:07:49.332305Z",
     "iopub.status.idle": "2024-01-27T17:07:49.337201Z",
     "shell.execute_reply": "2024-01-27T17:07:49.335767Z"
    },
    "papermill": {
     "duration": 0.02949,
     "end_time": "2024-01-27T17:07:49.339683",
     "exception": false,
     "start_time": "2024-01-27T17:07:49.310193",
     "status": "completed"
    },
    "tags": []
   },
   "outputs": [],
   "source": [
    "model = XGBClassifier()"
   ]
  },
  {
   "cell_type": "code",
   "execution_count": 42,
   "id": "639f7243",
   "metadata": {
    "execution": {
     "iopub.execute_input": "2024-01-27T17:07:49.379505Z",
     "iopub.status.busy": "2024-01-27T17:07:49.378773Z",
     "iopub.status.idle": "2024-01-27T17:07:49.385062Z",
     "shell.execute_reply": "2024-01-27T17:07:49.383236Z"
    },
    "papermill": {
     "duration": 0.029535,
     "end_time": "2024-01-27T17:07:49.387525",
     "exception": false,
     "start_time": "2024-01-27T17:07:49.357990",
     "status": "completed"
    },
    "tags": []
   },
   "outputs": [],
   "source": [
    "param_grid = {\n",
    "    'n_estimators': [100, 200, 300],\n",
    "    'learning_rate': [0.1, 0.2, 0.3],\n",
    "    'max_depth': [2, 3, 4]\n",
    "}"
   ]
  },
  {
   "cell_type": "code",
   "execution_count": 43,
   "id": "d0fc0ab7",
   "metadata": {
    "execution": {
     "iopub.execute_input": "2024-01-27T17:07:49.429918Z",
     "iopub.status.busy": "2024-01-27T17:07:49.429515Z",
     "iopub.status.idle": "2024-01-27T17:07:49.435275Z",
     "shell.execute_reply": "2024-01-27T17:07:49.434301Z"
    },
    "papermill": {
     "duration": 0.027694,
     "end_time": "2024-01-27T17:07:49.437845",
     "exception": false,
     "start_time": "2024-01-27T17:07:49.410151",
     "status": "completed"
    },
    "tags": []
   },
   "outputs": [],
   "source": [
    "grid_search = GridSearchCV(estimator=model, param_grid=param_grid, scoring='accuracy', cv=5, n_jobs=-1)"
   ]
  },
  {
   "cell_type": "code",
   "execution_count": 44,
   "id": "7931de7b",
   "metadata": {
    "execution": {
     "iopub.execute_input": "2024-01-27T17:07:49.477581Z",
     "iopub.status.busy": "2024-01-27T17:07:49.477175Z",
     "iopub.status.idle": "2024-01-27T17:09:43.433054Z",
     "shell.execute_reply": "2024-01-27T17:09:43.432136Z"
    },
    "papermill": {
     "duration": 113.997448,
     "end_time": "2024-01-27T17:09:43.454852",
     "exception": false,
     "start_time": "2024-01-27T17:07:49.457404",
     "status": "completed"
    },
    "tags": []
   },
   "outputs": [
    {
     "data": {
      "text/html": [
       "<style>#sk-container-id-1 {color: black;}#sk-container-id-1 pre{padding: 0;}#sk-container-id-1 div.sk-toggleable {background-color: white;}#sk-container-id-1 label.sk-toggleable__label {cursor: pointer;display: block;width: 100%;margin-bottom: 0;padding: 0.3em;box-sizing: border-box;text-align: center;}#sk-container-id-1 label.sk-toggleable__label-arrow:before {content: \"▸\";float: left;margin-right: 0.25em;color: #696969;}#sk-container-id-1 label.sk-toggleable__label-arrow:hover:before {color: black;}#sk-container-id-1 div.sk-estimator:hover label.sk-toggleable__label-arrow:before {color: black;}#sk-container-id-1 div.sk-toggleable__content {max-height: 0;max-width: 0;overflow: hidden;text-align: left;background-color: #f0f8ff;}#sk-container-id-1 div.sk-toggleable__content pre {margin: 0.2em;color: black;border-radius: 0.25em;background-color: #f0f8ff;}#sk-container-id-1 input.sk-toggleable__control:checked~div.sk-toggleable__content {max-height: 200px;max-width: 100%;overflow: auto;}#sk-container-id-1 input.sk-toggleable__control:checked~label.sk-toggleable__label-arrow:before {content: \"▾\";}#sk-container-id-1 div.sk-estimator input.sk-toggleable__control:checked~label.sk-toggleable__label {background-color: #d4ebff;}#sk-container-id-1 div.sk-label input.sk-toggleable__control:checked~label.sk-toggleable__label {background-color: #d4ebff;}#sk-container-id-1 input.sk-hidden--visually {border: 0;clip: rect(1px 1px 1px 1px);clip: rect(1px, 1px, 1px, 1px);height: 1px;margin: -1px;overflow: hidden;padding: 0;position: absolute;width: 1px;}#sk-container-id-1 div.sk-estimator {font-family: monospace;background-color: #f0f8ff;border: 1px dotted black;border-radius: 0.25em;box-sizing: border-box;margin-bottom: 0.5em;}#sk-container-id-1 div.sk-estimator:hover {background-color: #d4ebff;}#sk-container-id-1 div.sk-parallel-item::after {content: \"\";width: 100%;border-bottom: 1px solid gray;flex-grow: 1;}#sk-container-id-1 div.sk-label:hover label.sk-toggleable__label {background-color: #d4ebff;}#sk-container-id-1 div.sk-serial::before {content: \"\";position: absolute;border-left: 1px solid gray;box-sizing: border-box;top: 0;bottom: 0;left: 50%;z-index: 0;}#sk-container-id-1 div.sk-serial {display: flex;flex-direction: column;align-items: center;background-color: white;padding-right: 0.2em;padding-left: 0.2em;position: relative;}#sk-container-id-1 div.sk-item {position: relative;z-index: 1;}#sk-container-id-1 div.sk-parallel {display: flex;align-items: stretch;justify-content: center;background-color: white;position: relative;}#sk-container-id-1 div.sk-item::before, #sk-container-id-1 div.sk-parallel-item::before {content: \"\";position: absolute;border-left: 1px solid gray;box-sizing: border-box;top: 0;bottom: 0;left: 50%;z-index: -1;}#sk-container-id-1 div.sk-parallel-item {display: flex;flex-direction: column;z-index: 1;position: relative;background-color: white;}#sk-container-id-1 div.sk-parallel-item:first-child::after {align-self: flex-end;width: 50%;}#sk-container-id-1 div.sk-parallel-item:last-child::after {align-self: flex-start;width: 50%;}#sk-container-id-1 div.sk-parallel-item:only-child::after {width: 0;}#sk-container-id-1 div.sk-dashed-wrapped {border: 1px dashed gray;margin: 0 0.4em 0.5em 0.4em;box-sizing: border-box;padding-bottom: 0.4em;background-color: white;}#sk-container-id-1 div.sk-label label {font-family: monospace;font-weight: bold;display: inline-block;line-height: 1.2em;}#sk-container-id-1 div.sk-label-container {text-align: center;}#sk-container-id-1 div.sk-container {/* jupyter's `normalize.less` sets `[hidden] { display: none; }` but bootstrap.min.css set `[hidden] { display: none !important; }` so we also need the `!important` here to be able to override the default hidden behavior on the sphinx rendered scikit-learn.org. See: https://github.com/scikit-learn/scikit-learn/issues/21755 */display: inline-block !important;position: relative;}#sk-container-id-1 div.sk-text-repr-fallback {display: none;}</style><div id=\"sk-container-id-1\" class=\"sk-top-container\"><div class=\"sk-text-repr-fallback\"><pre>GridSearchCV(cv=5,\n",
       "             estimator=XGBClassifier(base_score=None, booster=None,\n",
       "                                     callbacks=None, colsample_bylevel=None,\n",
       "                                     colsample_bynode=None,\n",
       "                                     colsample_bytree=None, device=None,\n",
       "                                     early_stopping_rounds=None,\n",
       "                                     enable_categorical=False, eval_metric=None,\n",
       "                                     feature_types=None, gamma=None,\n",
       "                                     grow_policy=None, importance_type=None,\n",
       "                                     interaction_constraints=None,\n",
       "                                     learning_rate=None,...\n",
       "                                     max_cat_to_onehot=None,\n",
       "                                     max_delta_step=None, max_depth=None,\n",
       "                                     max_leaves=None, min_child_weight=None,\n",
       "                                     missing=nan, monotone_constraints=None,\n",
       "                                     multi_strategy=None, n_estimators=None,\n",
       "                                     n_jobs=None, num_parallel_tree=None,\n",
       "                                     random_state=None, ...),\n",
       "             n_jobs=-1,\n",
       "             param_grid={&#x27;learning_rate&#x27;: [0.1, 0.2, 0.3],\n",
       "                         &#x27;max_depth&#x27;: [2, 3, 4],\n",
       "                         &#x27;n_estimators&#x27;: [100, 200, 300]},\n",
       "             scoring=&#x27;accuracy&#x27;)</pre><b>In a Jupyter environment, please rerun this cell to show the HTML representation or trust the notebook. <br />On GitHub, the HTML representation is unable to render, please try loading this page with nbviewer.org.</b></div><div class=\"sk-container\" hidden><div class=\"sk-item sk-dashed-wrapped\"><div class=\"sk-label-container\"><div class=\"sk-label sk-toggleable\"><input class=\"sk-toggleable__control sk-hidden--visually\" id=\"sk-estimator-id-1\" type=\"checkbox\" ><label for=\"sk-estimator-id-1\" class=\"sk-toggleable__label sk-toggleable__label-arrow\">GridSearchCV</label><div class=\"sk-toggleable__content\"><pre>GridSearchCV(cv=5,\n",
       "             estimator=XGBClassifier(base_score=None, booster=None,\n",
       "                                     callbacks=None, colsample_bylevel=None,\n",
       "                                     colsample_bynode=None,\n",
       "                                     colsample_bytree=None, device=None,\n",
       "                                     early_stopping_rounds=None,\n",
       "                                     enable_categorical=False, eval_metric=None,\n",
       "                                     feature_types=None, gamma=None,\n",
       "                                     grow_policy=None, importance_type=None,\n",
       "                                     interaction_constraints=None,\n",
       "                                     learning_rate=None,...\n",
       "                                     max_cat_to_onehot=None,\n",
       "                                     max_delta_step=None, max_depth=None,\n",
       "                                     max_leaves=None, min_child_weight=None,\n",
       "                                     missing=nan, monotone_constraints=None,\n",
       "                                     multi_strategy=None, n_estimators=None,\n",
       "                                     n_jobs=None, num_parallel_tree=None,\n",
       "                                     random_state=None, ...),\n",
       "             n_jobs=-1,\n",
       "             param_grid={&#x27;learning_rate&#x27;: [0.1, 0.2, 0.3],\n",
       "                         &#x27;max_depth&#x27;: [2, 3, 4],\n",
       "                         &#x27;n_estimators&#x27;: [100, 200, 300]},\n",
       "             scoring=&#x27;accuracy&#x27;)</pre></div></div></div><div class=\"sk-parallel\"><div class=\"sk-parallel-item\"><div class=\"sk-item\"><div class=\"sk-label-container\"><div class=\"sk-label sk-toggleable\"><input class=\"sk-toggleable__control sk-hidden--visually\" id=\"sk-estimator-id-2\" type=\"checkbox\" ><label for=\"sk-estimator-id-2\" class=\"sk-toggleable__label sk-toggleable__label-arrow\">estimator: XGBClassifier</label><div class=\"sk-toggleable__content\"><pre>XGBClassifier(base_score=None, booster=None, callbacks=None,\n",
       "              colsample_bylevel=None, colsample_bynode=None,\n",
       "              colsample_bytree=None, device=None, early_stopping_rounds=None,\n",
       "              enable_categorical=False, eval_metric=None, feature_types=None,\n",
       "              gamma=None, grow_policy=None, importance_type=None,\n",
       "              interaction_constraints=None, learning_rate=None, max_bin=None,\n",
       "              max_cat_threshold=None, max_cat_to_onehot=None,\n",
       "              max_delta_step=None, max_depth=None, max_leaves=None,\n",
       "              min_child_weight=None, missing=nan, monotone_constraints=None,\n",
       "              multi_strategy=None, n_estimators=None, n_jobs=None,\n",
       "              num_parallel_tree=None, random_state=None, ...)</pre></div></div></div><div class=\"sk-serial\"><div class=\"sk-item\"><div class=\"sk-estimator sk-toggleable\"><input class=\"sk-toggleable__control sk-hidden--visually\" id=\"sk-estimator-id-3\" type=\"checkbox\" ><label for=\"sk-estimator-id-3\" class=\"sk-toggleable__label sk-toggleable__label-arrow\">XGBClassifier</label><div class=\"sk-toggleable__content\"><pre>XGBClassifier(base_score=None, booster=None, callbacks=None,\n",
       "              colsample_bylevel=None, colsample_bynode=None,\n",
       "              colsample_bytree=None, device=None, early_stopping_rounds=None,\n",
       "              enable_categorical=False, eval_metric=None, feature_types=None,\n",
       "              gamma=None, grow_policy=None, importance_type=None,\n",
       "              interaction_constraints=None, learning_rate=None, max_bin=None,\n",
       "              max_cat_threshold=None, max_cat_to_onehot=None,\n",
       "              max_delta_step=None, max_depth=None, max_leaves=None,\n",
       "              min_child_weight=None, missing=nan, monotone_constraints=None,\n",
       "              multi_strategy=None, n_estimators=None, n_jobs=None,\n",
       "              num_parallel_tree=None, random_state=None, ...)</pre></div></div></div></div></div></div></div></div></div></div>"
      ],
      "text/plain": [
       "GridSearchCV(cv=5,\n",
       "             estimator=XGBClassifier(base_score=None, booster=None,\n",
       "                                     callbacks=None, colsample_bylevel=None,\n",
       "                                     colsample_bynode=None,\n",
       "                                     colsample_bytree=None, device=None,\n",
       "                                     early_stopping_rounds=None,\n",
       "                                     enable_categorical=False, eval_metric=None,\n",
       "                                     feature_types=None, gamma=None,\n",
       "                                     grow_policy=None, importance_type=None,\n",
       "                                     interaction_constraints=None,\n",
       "                                     learning_rate=None,...\n",
       "                                     max_cat_to_onehot=None,\n",
       "                                     max_delta_step=None, max_depth=None,\n",
       "                                     max_leaves=None, min_child_weight=None,\n",
       "                                     missing=nan, monotone_constraints=None,\n",
       "                                     multi_strategy=None, n_estimators=None,\n",
       "                                     n_jobs=None, num_parallel_tree=None,\n",
       "                                     random_state=None, ...),\n",
       "             n_jobs=-1,\n",
       "             param_grid={'learning_rate': [0.1, 0.2, 0.3],\n",
       "                         'max_depth': [2, 3, 4],\n",
       "                         'n_estimators': [100, 200, 300]},\n",
       "             scoring='accuracy')"
      ]
     },
     "execution_count": 44,
     "metadata": {},
     "output_type": "execute_result"
    }
   ],
   "source": [
    "grid_search.fit(X_train, y_train)"
   ]
  },
  {
   "cell_type": "code",
   "execution_count": 45,
   "id": "736c9abc",
   "metadata": {
    "execution": {
     "iopub.execute_input": "2024-01-27T17:09:43.496842Z",
     "iopub.status.busy": "2024-01-27T17:09:43.496501Z",
     "iopub.status.idle": "2024-01-27T17:09:43.502806Z",
     "shell.execute_reply": "2024-01-27T17:09:43.501732Z"
    },
    "papermill": {
     "duration": 0.03002,
     "end_time": "2024-01-27T17:09:43.504774",
     "exception": false,
     "start_time": "2024-01-27T17:09:43.474754",
     "status": "completed"
    },
    "tags": []
   },
   "outputs": [
    {
     "name": "stdout",
     "output_type": "stream",
     "text": [
      "Best Parameters:  {'learning_rate': 0.1, 'max_depth': 3, 'n_estimators': 200}\n",
      "Best Accuracy: 86.56%\n"
     ]
    }
   ],
   "source": [
    "# Print the best parameters and the corresponding accuracy\n",
    "print(\"Best Parameters: \", grid_search.best_params_)\n",
    "print(\"Best Accuracy: {:.2f}%\".format(grid_search.best_score_ * 100))"
   ]
  },
  {
   "cell_type": "code",
   "execution_count": 46,
   "id": "274aad9c",
   "metadata": {
    "execution": {
     "iopub.execute_input": "2024-01-27T17:09:43.546572Z",
     "iopub.status.busy": "2024-01-27T17:09:43.545041Z",
     "iopub.status.idle": "2024-01-27T17:09:44.948553Z",
     "shell.execute_reply": "2024-01-27T17:09:44.947542Z"
    },
    "papermill": {
     "duration": 1.426346,
     "end_time": "2024-01-27T17:09:44.950245",
     "exception": false,
     "start_time": "2024-01-27T17:09:43.523899",
     "status": "completed"
    },
    "tags": []
   },
   "outputs": [
    {
     "data": {
      "text/html": [
       "<style>#sk-container-id-2 {color: black;}#sk-container-id-2 pre{padding: 0;}#sk-container-id-2 div.sk-toggleable {background-color: white;}#sk-container-id-2 label.sk-toggleable__label {cursor: pointer;display: block;width: 100%;margin-bottom: 0;padding: 0.3em;box-sizing: border-box;text-align: center;}#sk-container-id-2 label.sk-toggleable__label-arrow:before {content: \"▸\";float: left;margin-right: 0.25em;color: #696969;}#sk-container-id-2 label.sk-toggleable__label-arrow:hover:before {color: black;}#sk-container-id-2 div.sk-estimator:hover label.sk-toggleable__label-arrow:before {color: black;}#sk-container-id-2 div.sk-toggleable__content {max-height: 0;max-width: 0;overflow: hidden;text-align: left;background-color: #f0f8ff;}#sk-container-id-2 div.sk-toggleable__content pre {margin: 0.2em;color: black;border-radius: 0.25em;background-color: #f0f8ff;}#sk-container-id-2 input.sk-toggleable__control:checked~div.sk-toggleable__content {max-height: 200px;max-width: 100%;overflow: auto;}#sk-container-id-2 input.sk-toggleable__control:checked~label.sk-toggleable__label-arrow:before {content: \"▾\";}#sk-container-id-2 div.sk-estimator input.sk-toggleable__control:checked~label.sk-toggleable__label {background-color: #d4ebff;}#sk-container-id-2 div.sk-label input.sk-toggleable__control:checked~label.sk-toggleable__label {background-color: #d4ebff;}#sk-container-id-2 input.sk-hidden--visually {border: 0;clip: rect(1px 1px 1px 1px);clip: rect(1px, 1px, 1px, 1px);height: 1px;margin: -1px;overflow: hidden;padding: 0;position: absolute;width: 1px;}#sk-container-id-2 div.sk-estimator {font-family: monospace;background-color: #f0f8ff;border: 1px dotted black;border-radius: 0.25em;box-sizing: border-box;margin-bottom: 0.5em;}#sk-container-id-2 div.sk-estimator:hover {background-color: #d4ebff;}#sk-container-id-2 div.sk-parallel-item::after {content: \"\";width: 100%;border-bottom: 1px solid gray;flex-grow: 1;}#sk-container-id-2 div.sk-label:hover label.sk-toggleable__label {background-color: #d4ebff;}#sk-container-id-2 div.sk-serial::before {content: \"\";position: absolute;border-left: 1px solid gray;box-sizing: border-box;top: 0;bottom: 0;left: 50%;z-index: 0;}#sk-container-id-2 div.sk-serial {display: flex;flex-direction: column;align-items: center;background-color: white;padding-right: 0.2em;padding-left: 0.2em;position: relative;}#sk-container-id-2 div.sk-item {position: relative;z-index: 1;}#sk-container-id-2 div.sk-parallel {display: flex;align-items: stretch;justify-content: center;background-color: white;position: relative;}#sk-container-id-2 div.sk-item::before, #sk-container-id-2 div.sk-parallel-item::before {content: \"\";position: absolute;border-left: 1px solid gray;box-sizing: border-box;top: 0;bottom: 0;left: 50%;z-index: -1;}#sk-container-id-2 div.sk-parallel-item {display: flex;flex-direction: column;z-index: 1;position: relative;background-color: white;}#sk-container-id-2 div.sk-parallel-item:first-child::after {align-self: flex-end;width: 50%;}#sk-container-id-2 div.sk-parallel-item:last-child::after {align-self: flex-start;width: 50%;}#sk-container-id-2 div.sk-parallel-item:only-child::after {width: 0;}#sk-container-id-2 div.sk-dashed-wrapped {border: 1px dashed gray;margin: 0 0.4em 0.5em 0.4em;box-sizing: border-box;padding-bottom: 0.4em;background-color: white;}#sk-container-id-2 div.sk-label label {font-family: monospace;font-weight: bold;display: inline-block;line-height: 1.2em;}#sk-container-id-2 div.sk-label-container {text-align: center;}#sk-container-id-2 div.sk-container {/* jupyter's `normalize.less` sets `[hidden] { display: none; }` but bootstrap.min.css set `[hidden] { display: none !important; }` so we also need the `!important` here to be able to override the default hidden behavior on the sphinx rendered scikit-learn.org. See: https://github.com/scikit-learn/scikit-learn/issues/21755 */display: inline-block !important;position: relative;}#sk-container-id-2 div.sk-text-repr-fallback {display: none;}</style><div id=\"sk-container-id-2\" class=\"sk-top-container\"><div class=\"sk-text-repr-fallback\"><pre>XGBClassifier(base_score=None, booster=None, callbacks=None,\n",
       "              colsample_bylevel=None, colsample_bynode=None,\n",
       "              colsample_bytree=None, device=None, early_stopping_rounds=None,\n",
       "              enable_categorical=False, eval_metric=None, feature_types=None,\n",
       "              gamma=None, grow_policy=None, importance_type=None,\n",
       "              interaction_constraints=None, learning_rate=0.1, max_bin=None,\n",
       "              max_cat_threshold=None, max_cat_to_onehot=None,\n",
       "              max_delta_step=None, max_depth=3, max_leaves=None,\n",
       "              min_child_weight=None, missing=nan, monotone_constraints=None,\n",
       "              multi_strategy=None, n_estimators=200, n_jobs=None,\n",
       "              num_parallel_tree=None, random_state=None, ...)</pre><b>In a Jupyter environment, please rerun this cell to show the HTML representation or trust the notebook. <br />On GitHub, the HTML representation is unable to render, please try loading this page with nbviewer.org.</b></div><div class=\"sk-container\" hidden><div class=\"sk-item\"><div class=\"sk-estimator sk-toggleable\"><input class=\"sk-toggleable__control sk-hidden--visually\" id=\"sk-estimator-id-4\" type=\"checkbox\" checked><label for=\"sk-estimator-id-4\" class=\"sk-toggleable__label sk-toggleable__label-arrow\">XGBClassifier</label><div class=\"sk-toggleable__content\"><pre>XGBClassifier(base_score=None, booster=None, callbacks=None,\n",
       "              colsample_bylevel=None, colsample_bynode=None,\n",
       "              colsample_bytree=None, device=None, early_stopping_rounds=None,\n",
       "              enable_categorical=False, eval_metric=None, feature_types=None,\n",
       "              gamma=None, grow_policy=None, importance_type=None,\n",
       "              interaction_constraints=None, learning_rate=0.1, max_bin=None,\n",
       "              max_cat_threshold=None, max_cat_to_onehot=None,\n",
       "              max_delta_step=None, max_depth=3, max_leaves=None,\n",
       "              min_child_weight=None, missing=nan, monotone_constraints=None,\n",
       "              multi_strategy=None, n_estimators=200, n_jobs=None,\n",
       "              num_parallel_tree=None, random_state=None, ...)</pre></div></div></div></div></div>"
      ],
      "text/plain": [
       "XGBClassifier(base_score=None, booster=None, callbacks=None,\n",
       "              colsample_bylevel=None, colsample_bynode=None,\n",
       "              colsample_bytree=None, device=None, early_stopping_rounds=None,\n",
       "              enable_categorical=False, eval_metric=None, feature_types=None,\n",
       "              gamma=None, grow_policy=None, importance_type=None,\n",
       "              interaction_constraints=None, learning_rate=0.1, max_bin=None,\n",
       "              max_cat_threshold=None, max_cat_to_onehot=None,\n",
       "              max_delta_step=None, max_depth=3, max_leaves=None,\n",
       "              min_child_weight=None, missing=nan, monotone_constraints=None,\n",
       "              multi_strategy=None, n_estimators=200, n_jobs=None,\n",
       "              num_parallel_tree=None, random_state=None, ...)"
      ]
     },
     "execution_count": 46,
     "metadata": {},
     "output_type": "execute_result"
    }
   ],
   "source": [
    "final_model = grid_search.best_estimator_\n",
    "final_model.fit(X_train, y_train)"
   ]
  },
  {
   "cell_type": "code",
   "execution_count": 47,
   "id": "3435e21b",
   "metadata": {
    "execution": {
     "iopub.execute_input": "2024-01-27T17:09:44.989917Z",
     "iopub.status.busy": "2024-01-27T17:09:44.989347Z",
     "iopub.status.idle": "2024-01-27T17:09:45.026822Z",
     "shell.execute_reply": "2024-01-27T17:09:45.026058Z"
    },
    "papermill": {
     "duration": 0.060028,
     "end_time": "2024-01-27T17:09:45.029107",
     "exception": false,
     "start_time": "2024-01-27T17:09:44.969079",
     "status": "completed"
    },
    "tags": []
   },
   "outputs": [],
   "source": [
    "predictions = final_model.predict(X_valid)"
   ]
  },
  {
   "cell_type": "code",
   "execution_count": 48,
   "id": "00fc6790",
   "metadata": {
    "execution": {
     "iopub.execute_input": "2024-01-27T17:09:45.070508Z",
     "iopub.status.busy": "2024-01-27T17:09:45.069261Z",
     "iopub.status.idle": "2024-01-27T17:09:45.073790Z",
     "shell.execute_reply": "2024-01-27T17:09:45.072920Z"
    },
    "papermill": {
     "duration": 0.027137,
     "end_time": "2024-01-27T17:09:45.075849",
     "exception": false,
     "start_time": "2024-01-27T17:09:45.048712",
     "status": "completed"
    },
    "tags": []
   },
   "outputs": [],
   "source": [
    "from sklearn.metrics import accuracy_score"
   ]
  },
  {
   "cell_type": "code",
   "execution_count": 49,
   "id": "da7e34e9",
   "metadata": {
    "execution": {
     "iopub.execute_input": "2024-01-27T17:09:45.115686Z",
     "iopub.status.busy": "2024-01-27T17:09:45.114939Z",
     "iopub.status.idle": "2024-01-27T17:09:45.123525Z",
     "shell.execute_reply": "2024-01-27T17:09:45.122714Z"
    },
    "papermill": {
     "duration": 0.030552,
     "end_time": "2024-01-27T17:09:45.125524",
     "exception": false,
     "start_time": "2024-01-27T17:09:45.094972",
     "status": "completed"
    },
    "tags": []
   },
   "outputs": [
    {
     "data": {
      "text/plain": [
       "0.8650213746475457"
      ]
     },
     "execution_count": 49,
     "metadata": {},
     "output_type": "execute_result"
    }
   ],
   "source": [
    "accuracy_score(y_valid, predictions)"
   ]
  },
  {
   "cell_type": "code",
   "execution_count": 50,
   "id": "956a9dd8",
   "metadata": {
    "execution": {
     "iopub.execute_input": "2024-01-27T17:09:45.166451Z",
     "iopub.status.busy": "2024-01-27T17:09:45.166055Z",
     "iopub.status.idle": "2024-01-27T17:09:45.170483Z",
     "shell.execute_reply": "2024-01-27T17:09:45.169352Z"
    },
    "papermill": {
     "duration": 0.027013,
     "end_time": "2024-01-27T17:09:45.172162",
     "exception": false,
     "start_time": "2024-01-27T17:09:45.145149",
     "status": "completed"
    },
    "tags": []
   },
   "outputs": [],
   "source": [
    "from sklearn.metrics import mean_squared_error"
   ]
  },
  {
   "cell_type": "code",
   "execution_count": 51,
   "id": "074dca14",
   "metadata": {
    "execution": {
     "iopub.execute_input": "2024-01-27T17:09:45.215142Z",
     "iopub.status.busy": "2024-01-27T17:09:45.213653Z",
     "iopub.status.idle": "2024-01-27T17:09:45.222675Z",
     "shell.execute_reply": "2024-01-27T17:09:45.221468Z"
    },
    "papermill": {
     "duration": 0.032599,
     "end_time": "2024-01-27T17:09:45.224991",
     "exception": false,
     "start_time": "2024-01-27T17:09:45.192392",
     "status": "completed"
    },
    "tags": []
   },
   "outputs": [
    {
     "data": {
      "text/plain": [
       "0.1349786253524543"
      ]
     },
     "execution_count": 51,
     "metadata": {},
     "output_type": "execute_result"
    }
   ],
   "source": [
    "mean_squared_error(y_valid, predictions)"
   ]
  },
  {
   "cell_type": "code",
   "execution_count": 52,
   "id": "233aae54",
   "metadata": {
    "execution": {
     "iopub.execute_input": "2024-01-27T17:09:45.266830Z",
     "iopub.status.busy": "2024-01-27T17:09:45.266207Z",
     "iopub.status.idle": "2024-01-27T17:09:45.271392Z",
     "shell.execute_reply": "2024-01-27T17:09:45.269724Z"
    },
    "papermill": {
     "duration": 0.028822,
     "end_time": "2024-01-27T17:09:45.273924",
     "exception": false,
     "start_time": "2024-01-27T17:09:45.245102",
     "status": "completed"
    },
    "tags": []
   },
   "outputs": [],
   "source": [
    "from sklearn.metrics import confusion_matrix"
   ]
  },
  {
   "cell_type": "code",
   "execution_count": 53,
   "id": "c037184f",
   "metadata": {
    "execution": {
     "iopub.execute_input": "2024-01-27T17:09:45.315589Z",
     "iopub.status.busy": "2024-01-27T17:09:45.314996Z",
     "iopub.status.idle": "2024-01-27T17:09:45.448099Z",
     "shell.execute_reply": "2024-01-27T17:09:45.447408Z"
    },
    "papermill": {
     "duration": 0.155796,
     "end_time": "2024-01-27T17:09:45.449989",
     "exception": false,
     "start_time": "2024-01-27T17:09:45.294193",
     "status": "completed"
    },
    "tags": []
   },
   "outputs": [
    {
     "data": {
      "image/png": "[encoded data removed]",
      "text/plain": [
       "<Figure size 800x600 with 1 Axes>"
      ]
     },
     "metadata": {},
     "output_type": "display_data"
    }
   ],
   "source": [
    "# Compute confusion matrix\n",
    "cm = confusion_matrix(y_valid, predictions)\n",
    "\n",
    "# Plot the confusion matrix\n",
    "plt.figure(figsize=(8, 6))\n",
    "sns.heatmap(cm, annot=True, fmt=\"d\", cmap=\"Blues\", cbar=False)\n",
    "plt.title(\"Confusion Matrix\")\n",
    "plt.xlabel(\"Predicted Labels\")\n",
    "plt.ylabel(\"True Labels\")\n",
    "plt.show()"
   ]
  },
  {
   "cell_type": "code",
   "execution_count": 54,
   "id": "ce34b50e",
   "metadata": {},
   "outputs": [
    {
     "data": {
      "text/plain": [
       "array([0, 0, 0, ..., 1, 0, 0])"
      ]
     },
     "execution_count": 54,
     "metadata": {},
     "output_type": "execute_result"
    }
   ],
   "source": [
    "predictions"
   ]
  },
  {
   "cell_type": "code",
   "execution_count": 55,
   "id": "7925b312",
   "metadata": {
    "execution": {
     "iopub.execute_input": "2024-01-27T17:09:45.492286Z",
     "iopub.status.busy": "2024-01-27T17:09:45.491944Z",
     "iopub.status.idle": "2024-01-27T17:09:45.595724Z",
     "shell.execute_reply": "2024-01-27T17:09:45.594716Z"
    },
    "papermill": {
     "duration": 0.126298,
     "end_time": "2024-01-27T17:09:45.597993",
     "exception": false,
     "start_time": "2024-01-27T17:09:45.471695",
     "status": "completed"
    },
    "tags": []
   },
   "outputs": [
    {
     "data": {
      "text/plain": [
       "array([0, 1, 0, ..., 0, 0, 0])"
      ]
     },
     "execution_count": 55,
     "metadata": {},
     "output_type": "execute_result"
    }
   ],
   "source": [
    "submit_predictions = final_model.predict(test_data3)\n",
    "submit_predictions"
   ]
  },
  {
   "cell_type": "code",
   "execution_count": 56,
   "id": "8e5e870c",
   "metadata": {
    "execution": {
     "iopub.execute_input": "2024-01-27T17:09:45.637869Z",
     "iopub.status.busy": "2024-01-27T17:09:45.637572Z",
     "iopub.status.idle": "2024-01-27T17:09:45.747363Z",
     "shell.execute_reply": "2024-01-27T17:09:45.745915Z"
    },
    "papermill": {
     "duration": 0.132318,
     "end_time": "2024-01-27T17:09:45.749637",
     "exception": false,
     "start_time": "2024-01-27T17:09:45.617319",
     "status": "completed"
    },
    "tags": []
   },
   "outputs": [],
   "source": [
    "#output = pd.DataFrame({\"id\": test_data.id, \"Exited\":submit_predictions})\n",
    "#output.to_csv(\"Bank_submission_final1.csv\", index = False)\n",
    "#print(\"Your submission was successfully saved!\")"
   ]
  },
  {
   "cell_type": "code",
   "execution_count": 57,
   "id": "7a43e4ff",
   "metadata": {},
   "outputs": [],
   "source": [
    "import joblib"
   ]
  },
  {
   "cell_type": "code",
   "execution_count": 58,
   "id": "6d5c31a1",
   "metadata": {},
   "outputs": [],
   "source": [
    "# Assuming final_model is your trained machine learning model\n",
    "joblib.dump(final_model, \"bank_churn.joblib\")\n",
    "\n",
    "# Loading the model from joblib format\n",
    "joblib_model = joblib.load(\"bank_churn.joblib\")"
   ]
  },
  {
   "cell_type": "code",
   "execution_count": 59,
   "id": "98713912",
   "metadata": {},
   "outputs": [
    {
     "name": "stdout",
     "output_type": "stream",
     "text": [
      "[1]\n"
     ]
    }
   ],
   "source": [
    "to_predict = np.asarray(test_data3.iloc[1]).reshape(1,-1)\n",
    "prediction = joblib_model.predict(to_predict)\n",
    "print(prediction)"
   ]
  }
 ],
 "metadata": {
  "kaggle": {
   "accelerator": "none",
   "dataSources": [
    {
     "databundleVersionId": 7405009,
     "sourceId": 65711,
     "sourceType": "competition"
    }
   ],
   "dockerImageVersionId": 30635,
   "isGpuEnabled": false,
   "isInternetEnabled": true,
   "language": "python",
   "sourceType": "notebook"
  },
  "kernelspec": {
   "display_name": "Python 3 (ipykernel)",
   "language": "python",
   "name": "python3"
  },
  "language_info": {
   "codemirror_mode": {
    "name": "ipython",
    "version": 3
   },
   "file_extension": ".py",
   "mimetype": "text/x-python",
   "name": "python",
   "nbconvert_exporter": "python",
   "pygments_lexer": "ipython3",
   "version": "3.10.0"
  },
  "papermill": {
   "default_parameters": {},
   "duration": 129.339536,
   "end_time": "2024-01-27T17:09:48.390592",
   "environment_variables": {},
   "exception": null,
   "input_path": "__notebook__.ipynb",
   "output_path": "__notebook__.ipynb",
   "parameters": {},
   "start_time": "2024-01-27T17:07:39.051056",
   "version": "2.4.0"
  }
 },
 "nbformat": 4,
 "nbformat_minor": 5
}
